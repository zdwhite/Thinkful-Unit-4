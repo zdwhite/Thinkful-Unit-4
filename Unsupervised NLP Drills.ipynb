{
 "cells": [
  {
   "cell_type": "code",
   "execution_count": null,
   "metadata": {},
   "outputs": [],
   "source": []
  },
  {
   "cell_type": "markdown",
   "metadata": {},
   "source": [
    "# Drill: tf-idf scores\n",
    "\n",
    "Converting sentences into numeric vectors is fundamental for a lot of unsupervised NLP tasks. To make sure you are solid on how these vectors work, please generate the vectors for the last three sentences.\n",
    "\n",
    "(solution for 4, 5, and 6:\n",
    "4. 1.585, 1, 0, 1, 1.585, 0,0,0,0\n",
    "5. 0,0,0,0,0, .585, 1, 1.585, 1\n",
    "6. 0,0,0,0,0,0, 1, 0, 2)"
   ]
  },
  {
   "cell_type": "code",
   "execution_count": 1,
   "metadata": {},
   "outputs": [],
   "source": [
    "import numpy as np\n",
    "import pandas as pd\n",
    "import scipy\n",
    "import matplotlib.pyplot as plt\n",
    "import seaborn as sns\n",
    "\n",
    "import spacy\n",
    "\n",
    "\n",
    "%matplotlib inline"
   ]
  },
  {
   "cell_type": "code",
   "execution_count": 2,
   "metadata": {},
   "outputs": [],
   "source": [
    "S = \"The best Monty Python sketch is the one about the dead parrot, I laughed so hard. I laugh when I think about Python's Ministry of Silly Walks sketch, it is funny, funny, funny, the best! Chocolate is the best ice cream dessert topping, with a great taste.The Lumberjack Song is the funniest Monty Python bit: I can't think of it without laughing.I would rather put strawberries on my ice cream for dessert, they have the best taste. The taste of caramel is a fantastic accompaniment to tasty mint ice cream.\"\n",
    "\n",
    "\n"
   ]
  },
  {
   "cell_type": "code",
   "execution_count": 3,
   "metadata": {},
   "outputs": [],
   "source": [
    "nlp = spacy.load(\"en_core_web_sm\")"
   ]
  },
  {
   "cell_type": "code",
   "execution_count": 4,
   "metadata": {},
   "outputs": [],
   "source": [
    "doc = nlp(S)\n",
    "\n",
    "Sent = list(doc.sents)\n",
    "\n"
   ]
  },
  {
   "cell_type": "code",
   "execution_count": 5,
   "metadata": {},
   "outputs": [
    {
     "data": {
      "text/plain": [
       "Chocolate is the best ice cream dessert topping, with a great taste."
      ]
     },
     "execution_count": 5,
     "metadata": {},
     "output_type": "execute_result"
    }
   ],
   "source": [
    "Sent[2]"
   ]
  },
  {
   "cell_type": "code",
   "execution_count": 9,
   "metadata": {},
   "outputs": [
    {
     "data": {
      "text/html": [
       "<svg xmlns=\"http://www.w3.org/2000/svg\" xmlns:xlink=\"http://www.w3.org/1999/xlink\" xml:lang=\"en\" id=\"e180fca932244ed1b0345f248b91058d-0\" class=\"displacy\" width=\"2325\" height=\"399.5\" direction=\"ltr\" style=\"max-width: none; height: 399.5px; color: #000000; background: #ffffff; font-family: Arial; direction: ltr\">\n",
       "<text class=\"displacy-token\" fill=\"currentColor\" text-anchor=\"middle\" y=\"309.5\">\n",
       "    <tspan class=\"displacy-word\" fill=\"currentColor\" x=\"50\">The</tspan>\n",
       "    <tspan class=\"displacy-tag\" dy=\"2em\" fill=\"currentColor\" x=\"50\">DET</tspan>\n",
       "</text>\n",
       "\n",
       "<text class=\"displacy-token\" fill=\"currentColor\" text-anchor=\"middle\" y=\"309.5\">\n",
       "    <tspan class=\"displacy-word\" fill=\"currentColor\" x=\"225\">taste</tspan>\n",
       "    <tspan class=\"displacy-tag\" dy=\"2em\" fill=\"currentColor\" x=\"225\">NOUN</tspan>\n",
       "</text>\n",
       "\n",
       "<text class=\"displacy-token\" fill=\"currentColor\" text-anchor=\"middle\" y=\"309.5\">\n",
       "    <tspan class=\"displacy-word\" fill=\"currentColor\" x=\"400\">of</tspan>\n",
       "    <tspan class=\"displacy-tag\" dy=\"2em\" fill=\"currentColor\" x=\"400\">ADP</tspan>\n",
       "</text>\n",
       "\n",
       "<text class=\"displacy-token\" fill=\"currentColor\" text-anchor=\"middle\" y=\"309.5\">\n",
       "    <tspan class=\"displacy-word\" fill=\"currentColor\" x=\"575\">caramel</tspan>\n",
       "    <tspan class=\"displacy-tag\" dy=\"2em\" fill=\"currentColor\" x=\"575\">NOUN</tspan>\n",
       "</text>\n",
       "\n",
       "<text class=\"displacy-token\" fill=\"currentColor\" text-anchor=\"middle\" y=\"309.5\">\n",
       "    <tspan class=\"displacy-word\" fill=\"currentColor\" x=\"750\">is</tspan>\n",
       "    <tspan class=\"displacy-tag\" dy=\"2em\" fill=\"currentColor\" x=\"750\">VERB</tspan>\n",
       "</text>\n",
       "\n",
       "<text class=\"displacy-token\" fill=\"currentColor\" text-anchor=\"middle\" y=\"309.5\">\n",
       "    <tspan class=\"displacy-word\" fill=\"currentColor\" x=\"925\">a</tspan>\n",
       "    <tspan class=\"displacy-tag\" dy=\"2em\" fill=\"currentColor\" x=\"925\">DET</tspan>\n",
       "</text>\n",
       "\n",
       "<text class=\"displacy-token\" fill=\"currentColor\" text-anchor=\"middle\" y=\"309.5\">\n",
       "    <tspan class=\"displacy-word\" fill=\"currentColor\" x=\"1100\">fantastic</tspan>\n",
       "    <tspan class=\"displacy-tag\" dy=\"2em\" fill=\"currentColor\" x=\"1100\">ADJ</tspan>\n",
       "</text>\n",
       "\n",
       "<text class=\"displacy-token\" fill=\"currentColor\" text-anchor=\"middle\" y=\"309.5\">\n",
       "    <tspan class=\"displacy-word\" fill=\"currentColor\" x=\"1275\">accompaniment</tspan>\n",
       "    <tspan class=\"displacy-tag\" dy=\"2em\" fill=\"currentColor\" x=\"1275\">NOUN</tspan>\n",
       "</text>\n",
       "\n",
       "<text class=\"displacy-token\" fill=\"currentColor\" text-anchor=\"middle\" y=\"309.5\">\n",
       "    <tspan class=\"displacy-word\" fill=\"currentColor\" x=\"1450\">to</tspan>\n",
       "    <tspan class=\"displacy-tag\" dy=\"2em\" fill=\"currentColor\" x=\"1450\">ADP</tspan>\n",
       "</text>\n",
       "\n",
       "<text class=\"displacy-token\" fill=\"currentColor\" text-anchor=\"middle\" y=\"309.5\">\n",
       "    <tspan class=\"displacy-word\" fill=\"currentColor\" x=\"1625\">tasty</tspan>\n",
       "    <tspan class=\"displacy-tag\" dy=\"2em\" fill=\"currentColor\" x=\"1625\">ADJ</tspan>\n",
       "</text>\n",
       "\n",
       "<text class=\"displacy-token\" fill=\"currentColor\" text-anchor=\"middle\" y=\"309.5\">\n",
       "    <tspan class=\"displacy-word\" fill=\"currentColor\" x=\"1800\">mint</tspan>\n",
       "    <tspan class=\"displacy-tag\" dy=\"2em\" fill=\"currentColor\" x=\"1800\">NOUN</tspan>\n",
       "</text>\n",
       "\n",
       "<text class=\"displacy-token\" fill=\"currentColor\" text-anchor=\"middle\" y=\"309.5\">\n",
       "    <tspan class=\"displacy-word\" fill=\"currentColor\" x=\"1975\">ice</tspan>\n",
       "    <tspan class=\"displacy-tag\" dy=\"2em\" fill=\"currentColor\" x=\"1975\">NOUN</tspan>\n",
       "</text>\n",
       "\n",
       "<text class=\"displacy-token\" fill=\"currentColor\" text-anchor=\"middle\" y=\"309.5\">\n",
       "    <tspan class=\"displacy-word\" fill=\"currentColor\" x=\"2150\">cream.</tspan>\n",
       "    <tspan class=\"displacy-tag\" dy=\"2em\" fill=\"currentColor\" x=\"2150\">NOUN</tspan>\n",
       "</text>\n",
       "\n",
       "<g class=\"displacy-arrow\">\n",
       "    <path class=\"displacy-arc\" id=\"arrow-e180fca932244ed1b0345f248b91058d-0-0\" stroke-width=\"2px\" d=\"M70,264.5 C70,177.0 215.0,177.0 215.0,264.5\" fill=\"none\" stroke=\"currentColor\"/>\n",
       "    <text dy=\"1.25em\" style=\"font-size: 0.8em; letter-spacing: 1px\">\n",
       "        <textPath xlink:href=\"#arrow-e180fca932244ed1b0345f248b91058d-0-0\" class=\"displacy-label\" startOffset=\"50%\" side=\"left\" fill=\"currentColor\" text-anchor=\"middle\">det</textPath>\n",
       "    </text>\n",
       "    <path class=\"displacy-arrowhead\" d=\"M70,266.5 L62,254.5 78,254.5\" fill=\"currentColor\"/>\n",
       "</g>\n",
       "\n",
       "<g class=\"displacy-arrow\">\n",
       "    <path class=\"displacy-arc\" id=\"arrow-e180fca932244ed1b0345f248b91058d-0-1\" stroke-width=\"2px\" d=\"M245,264.5 C245,2.0 750.0,2.0 750.0,264.5\" fill=\"none\" stroke=\"currentColor\"/>\n",
       "    <text dy=\"1.25em\" style=\"font-size: 0.8em; letter-spacing: 1px\">\n",
       "        <textPath xlink:href=\"#arrow-e180fca932244ed1b0345f248b91058d-0-1\" class=\"displacy-label\" startOffset=\"50%\" side=\"left\" fill=\"currentColor\" text-anchor=\"middle\">nsubj</textPath>\n",
       "    </text>\n",
       "    <path class=\"displacy-arrowhead\" d=\"M245,266.5 L237,254.5 253,254.5\" fill=\"currentColor\"/>\n",
       "</g>\n",
       "\n",
       "<g class=\"displacy-arrow\">\n",
       "    <path class=\"displacy-arc\" id=\"arrow-e180fca932244ed1b0345f248b91058d-0-2\" stroke-width=\"2px\" d=\"M245,264.5 C245,177.0 390.0,177.0 390.0,264.5\" fill=\"none\" stroke=\"currentColor\"/>\n",
       "    <text dy=\"1.25em\" style=\"font-size: 0.8em; letter-spacing: 1px\">\n",
       "        <textPath xlink:href=\"#arrow-e180fca932244ed1b0345f248b91058d-0-2\" class=\"displacy-label\" startOffset=\"50%\" side=\"left\" fill=\"currentColor\" text-anchor=\"middle\">prep</textPath>\n",
       "    </text>\n",
       "    <path class=\"displacy-arrowhead\" d=\"M390.0,266.5 L398.0,254.5 382.0,254.5\" fill=\"currentColor\"/>\n",
       "</g>\n",
       "\n",
       "<g class=\"displacy-arrow\">\n",
       "    <path class=\"displacy-arc\" id=\"arrow-e180fca932244ed1b0345f248b91058d-0-3\" stroke-width=\"2px\" d=\"M420,264.5 C420,177.0 565.0,177.0 565.0,264.5\" fill=\"none\" stroke=\"currentColor\"/>\n",
       "    <text dy=\"1.25em\" style=\"font-size: 0.8em; letter-spacing: 1px\">\n",
       "        <textPath xlink:href=\"#arrow-e180fca932244ed1b0345f248b91058d-0-3\" class=\"displacy-label\" startOffset=\"50%\" side=\"left\" fill=\"currentColor\" text-anchor=\"middle\">pobj</textPath>\n",
       "    </text>\n",
       "    <path class=\"displacy-arrowhead\" d=\"M565.0,266.5 L573.0,254.5 557.0,254.5\" fill=\"currentColor\"/>\n",
       "</g>\n",
       "\n",
       "<g class=\"displacy-arrow\">\n",
       "    <path class=\"displacy-arc\" id=\"arrow-e180fca932244ed1b0345f248b91058d-0-4\" stroke-width=\"2px\" d=\"M945,264.5 C945,89.5 1270.0,89.5 1270.0,264.5\" fill=\"none\" stroke=\"currentColor\"/>\n",
       "    <text dy=\"1.25em\" style=\"font-size: 0.8em; letter-spacing: 1px\">\n",
       "        <textPath xlink:href=\"#arrow-e180fca932244ed1b0345f248b91058d-0-4\" class=\"displacy-label\" startOffset=\"50%\" side=\"left\" fill=\"currentColor\" text-anchor=\"middle\">det</textPath>\n",
       "    </text>\n",
       "    <path class=\"displacy-arrowhead\" d=\"M945,266.5 L937,254.5 953,254.5\" fill=\"currentColor\"/>\n",
       "</g>\n",
       "\n",
       "<g class=\"displacy-arrow\">\n",
       "    <path class=\"displacy-arc\" id=\"arrow-e180fca932244ed1b0345f248b91058d-0-5\" stroke-width=\"2px\" d=\"M1120,264.5 C1120,177.0 1265.0,177.0 1265.0,264.5\" fill=\"none\" stroke=\"currentColor\"/>\n",
       "    <text dy=\"1.25em\" style=\"font-size: 0.8em; letter-spacing: 1px\">\n",
       "        <textPath xlink:href=\"#arrow-e180fca932244ed1b0345f248b91058d-0-5\" class=\"displacy-label\" startOffset=\"50%\" side=\"left\" fill=\"currentColor\" text-anchor=\"middle\">amod</textPath>\n",
       "    </text>\n",
       "    <path class=\"displacy-arrowhead\" d=\"M1120,266.5 L1112,254.5 1128,254.5\" fill=\"currentColor\"/>\n",
       "</g>\n",
       "\n",
       "<g class=\"displacy-arrow\">\n",
       "    <path class=\"displacy-arc\" id=\"arrow-e180fca932244ed1b0345f248b91058d-0-6\" stroke-width=\"2px\" d=\"M770,264.5 C770,2.0 1275.0,2.0 1275.0,264.5\" fill=\"none\" stroke=\"currentColor\"/>\n",
       "    <text dy=\"1.25em\" style=\"font-size: 0.8em; letter-spacing: 1px\">\n",
       "        <textPath xlink:href=\"#arrow-e180fca932244ed1b0345f248b91058d-0-6\" class=\"displacy-label\" startOffset=\"50%\" side=\"left\" fill=\"currentColor\" text-anchor=\"middle\">attr</textPath>\n",
       "    </text>\n",
       "    <path class=\"displacy-arrowhead\" d=\"M1275.0,266.5 L1283.0,254.5 1267.0,254.5\" fill=\"currentColor\"/>\n",
       "</g>\n",
       "\n",
       "<g class=\"displacy-arrow\">\n",
       "    <path class=\"displacy-arc\" id=\"arrow-e180fca932244ed1b0345f248b91058d-0-7\" stroke-width=\"2px\" d=\"M1470,264.5 C1470,177.0 1615.0,177.0 1615.0,264.5\" fill=\"none\" stroke=\"currentColor\"/>\n",
       "    <text dy=\"1.25em\" style=\"font-size: 0.8em; letter-spacing: 1px\">\n",
       "        <textPath xlink:href=\"#arrow-e180fca932244ed1b0345f248b91058d-0-7\" class=\"displacy-label\" startOffset=\"50%\" side=\"left\" fill=\"currentColor\" text-anchor=\"middle\">aux</textPath>\n",
       "    </text>\n",
       "    <path class=\"displacy-arrowhead\" d=\"M1470,266.5 L1462,254.5 1478,254.5\" fill=\"currentColor\"/>\n",
       "</g>\n",
       "\n",
       "<g class=\"displacy-arrow\">\n",
       "    <path class=\"displacy-arc\" id=\"arrow-e180fca932244ed1b0345f248b91058d-0-8\" stroke-width=\"2px\" d=\"M1295,264.5 C1295,89.5 1620.0,89.5 1620.0,264.5\" fill=\"none\" stroke=\"currentColor\"/>\n",
       "    <text dy=\"1.25em\" style=\"font-size: 0.8em; letter-spacing: 1px\">\n",
       "        <textPath xlink:href=\"#arrow-e180fca932244ed1b0345f248b91058d-0-8\" class=\"displacy-label\" startOffset=\"50%\" side=\"left\" fill=\"currentColor\" text-anchor=\"middle\">acl</textPath>\n",
       "    </text>\n",
       "    <path class=\"displacy-arrowhead\" d=\"M1620.0,266.5 L1628.0,254.5 1612.0,254.5\" fill=\"currentColor\"/>\n",
       "</g>\n",
       "\n",
       "<g class=\"displacy-arrow\">\n",
       "    <path class=\"displacy-arc\" id=\"arrow-e180fca932244ed1b0345f248b91058d-0-9\" stroke-width=\"2px\" d=\"M1820,264.5 C1820,177.0 1965.0,177.0 1965.0,264.5\" fill=\"none\" stroke=\"currentColor\"/>\n",
       "    <text dy=\"1.25em\" style=\"font-size: 0.8em; letter-spacing: 1px\">\n",
       "        <textPath xlink:href=\"#arrow-e180fca932244ed1b0345f248b91058d-0-9\" class=\"displacy-label\" startOffset=\"50%\" side=\"left\" fill=\"currentColor\" text-anchor=\"middle\">compound</textPath>\n",
       "    </text>\n",
       "    <path class=\"displacy-arrowhead\" d=\"M1820,266.5 L1812,254.5 1828,254.5\" fill=\"currentColor\"/>\n",
       "</g>\n",
       "\n",
       "<g class=\"displacy-arrow\">\n",
       "    <path class=\"displacy-arc\" id=\"arrow-e180fca932244ed1b0345f248b91058d-0-10\" stroke-width=\"2px\" d=\"M1995,264.5 C1995,177.0 2140.0,177.0 2140.0,264.5\" fill=\"none\" stroke=\"currentColor\"/>\n",
       "    <text dy=\"1.25em\" style=\"font-size: 0.8em; letter-spacing: 1px\">\n",
       "        <textPath xlink:href=\"#arrow-e180fca932244ed1b0345f248b91058d-0-10\" class=\"displacy-label\" startOffset=\"50%\" side=\"left\" fill=\"currentColor\" text-anchor=\"middle\">compound</textPath>\n",
       "    </text>\n",
       "    <path class=\"displacy-arrowhead\" d=\"M1995,266.5 L1987,254.5 2003,254.5\" fill=\"currentColor\"/>\n",
       "</g>\n",
       "\n",
       "<g class=\"displacy-arrow\">\n",
       "    <path class=\"displacy-arc\" id=\"arrow-e180fca932244ed1b0345f248b91058d-0-11\" stroke-width=\"2px\" d=\"M1645,264.5 C1645,2.0 2150.0,2.0 2150.0,264.5\" fill=\"none\" stroke=\"currentColor\"/>\n",
       "    <text dy=\"1.25em\" style=\"font-size: 0.8em; letter-spacing: 1px\">\n",
       "        <textPath xlink:href=\"#arrow-e180fca932244ed1b0345f248b91058d-0-11\" class=\"displacy-label\" startOffset=\"50%\" side=\"left\" fill=\"currentColor\" text-anchor=\"middle\">dobj</textPath>\n",
       "    </text>\n",
       "    <path class=\"displacy-arrowhead\" d=\"M2150.0,266.5 L2158.0,254.5 2142.0,254.5\" fill=\"currentColor\"/>\n",
       "</g>\n",
       "</svg>"
      ],
      "text/plain": [
       "<IPython.core.display.HTML object>"
      ]
     },
     "metadata": {},
     "output_type": "display_data"
    }
   ],
   "source": [
    "from spacy import displacy\n",
    "displacy.render(Sent[5], style=\"dep\")"
   ]
  },
  {
   "cell_type": "code",
   "execution_count": 64,
   "metadata": {},
   "outputs": [],
   "source": [
    "df = pd.DataFrame([])\n",
    "\n",
    "df['1'] = [1 , 0 , 0 , 1 , 0 , 0]\n",
    "df['2']  =  [ 1 , 1 , 0 , 1 , 0 , 0 ]\n",
    "df['3']  =  [ 1 , 1 , 0 , 0 , 0 , 0 ]\n",
    "df['4']  =   [ 1 , 1 , 0 , 1 , 0 , 0 ]\n",
    "df['5']  =   [ 0 , 3 , 0 , 1 , 0 , 0 ]\n",
    "df['6']  =    [ 1 , 1 , 1 , 0 , 1 , 0]\n",
    "df['7'] = [ 0 , 0 , 1 , 0 , 1 , 1 ]\n",
    "df['8']  = [ 0 , 0 , 1 , 0 , 1 , 0 ]\n",
    "df['9']   =  [ 0 , 0 , 1 , 0 , 1 , 2 ]"
   ]
  },
  {
   "cell_type": "code",
   "execution_count": 65,
   "metadata": {},
   "outputs": [],
   "source": [
    "df = df.T\n",
    "df.index=['Monty','Python','sketch','laugh','funny','best','ice cream','dessert','taste']\n",
    "df['df']=df.apply(lambda x : len(x.nonzero()[0]), axis=1)\n",
    "df['cf']=df.iloc[:,:-1].sum(axis=1)"
   ]
  },
  {
   "cell_type": "code",
   "execution_count": 79,
   "metadata": {},
   "outputs": [],
   "source": [
    "df['idf']=np.log2(6/df['df'])"
   ]
  },
  {
   "cell_type": "code",
   "execution_count": 81,
   "metadata": {},
   "outputs": [
    {
     "data": {
      "text/html": [
       "<div>\n",
       "<style scoped>\n",
       "    .dataframe tbody tr th:only-of-type {\n",
       "        vertical-align: middle;\n",
       "    }\n",
       "\n",
       "    .dataframe tbody tr th {\n",
       "        vertical-align: top;\n",
       "    }\n",
       "\n",
       "    .dataframe thead th {\n",
       "        text-align: right;\n",
       "    }\n",
       "</style>\n",
       "<table border=\"1\" class=\"dataframe\">\n",
       "  <thead>\n",
       "    <tr style=\"text-align: right;\">\n",
       "      <th></th>\n",
       "      <th>0</th>\n",
       "      <th>1</th>\n",
       "      <th>2</th>\n",
       "      <th>3</th>\n",
       "      <th>4</th>\n",
       "      <th>5</th>\n",
       "      <th>df</th>\n",
       "      <th>cf</th>\n",
       "      <th>idf</th>\n",
       "    </tr>\n",
       "  </thead>\n",
       "  <tbody>\n",
       "    <tr>\n",
       "      <th>Monty</th>\n",
       "      <td>1</td>\n",
       "      <td>0</td>\n",
       "      <td>0</td>\n",
       "      <td>1</td>\n",
       "      <td>0</td>\n",
       "      <td>0</td>\n",
       "      <td>2</td>\n",
       "      <td>2</td>\n",
       "      <td>1.584963</td>\n",
       "    </tr>\n",
       "    <tr>\n",
       "      <th>Python</th>\n",
       "      <td>1</td>\n",
       "      <td>1</td>\n",
       "      <td>0</td>\n",
       "      <td>1</td>\n",
       "      <td>0</td>\n",
       "      <td>0</td>\n",
       "      <td>3</td>\n",
       "      <td>3</td>\n",
       "      <td>1.000000</td>\n",
       "    </tr>\n",
       "    <tr>\n",
       "      <th>sketch</th>\n",
       "      <td>1</td>\n",
       "      <td>1</td>\n",
       "      <td>0</td>\n",
       "      <td>0</td>\n",
       "      <td>0</td>\n",
       "      <td>0</td>\n",
       "      <td>2</td>\n",
       "      <td>2</td>\n",
       "      <td>1.584963</td>\n",
       "    </tr>\n",
       "    <tr>\n",
       "      <th>laugh</th>\n",
       "      <td>1</td>\n",
       "      <td>1</td>\n",
       "      <td>0</td>\n",
       "      <td>1</td>\n",
       "      <td>0</td>\n",
       "      <td>0</td>\n",
       "      <td>3</td>\n",
       "      <td>3</td>\n",
       "      <td>1.000000</td>\n",
       "    </tr>\n",
       "    <tr>\n",
       "      <th>funny</th>\n",
       "      <td>0</td>\n",
       "      <td>3</td>\n",
       "      <td>0</td>\n",
       "      <td>1</td>\n",
       "      <td>0</td>\n",
       "      <td>0</td>\n",
       "      <td>2</td>\n",
       "      <td>4</td>\n",
       "      <td>1.584963</td>\n",
       "    </tr>\n",
       "    <tr>\n",
       "      <th>best</th>\n",
       "      <td>1</td>\n",
       "      <td>1</td>\n",
       "      <td>1</td>\n",
       "      <td>0</td>\n",
       "      <td>1</td>\n",
       "      <td>0</td>\n",
       "      <td>4</td>\n",
       "      <td>4</td>\n",
       "      <td>0.584963</td>\n",
       "    </tr>\n",
       "    <tr>\n",
       "      <th>ice cream</th>\n",
       "      <td>0</td>\n",
       "      <td>0</td>\n",
       "      <td>1</td>\n",
       "      <td>0</td>\n",
       "      <td>1</td>\n",
       "      <td>1</td>\n",
       "      <td>3</td>\n",
       "      <td>3</td>\n",
       "      <td>1.000000</td>\n",
       "    </tr>\n",
       "    <tr>\n",
       "      <th>dessert</th>\n",
       "      <td>0</td>\n",
       "      <td>0</td>\n",
       "      <td>1</td>\n",
       "      <td>0</td>\n",
       "      <td>1</td>\n",
       "      <td>0</td>\n",
       "      <td>2</td>\n",
       "      <td>2</td>\n",
       "      <td>1.584963</td>\n",
       "    </tr>\n",
       "    <tr>\n",
       "      <th>taste</th>\n",
       "      <td>0</td>\n",
       "      <td>0</td>\n",
       "      <td>1</td>\n",
       "      <td>0</td>\n",
       "      <td>1</td>\n",
       "      <td>2</td>\n",
       "      <td>3</td>\n",
       "      <td>4</td>\n",
       "      <td>1.000000</td>\n",
       "    </tr>\n",
       "  </tbody>\n",
       "</table>\n",
       "</div>"
      ],
      "text/plain": [
       "           0  1  2  3  4  5  df  cf       idf\n",
       "Monty      1  0  0  1  0  0   2   2  1.584963\n",
       "Python     1  1  0  1  0  0   3   3  1.000000\n",
       "sketch     1  1  0  0  0  0   2   2  1.584963\n",
       "laugh      1  1  0  1  0  0   3   3  1.000000\n",
       "funny      0  3  0  1  0  0   2   4  1.584963\n",
       "best       1  1  1  0  1  0   4   4  0.584963\n",
       "ice cream  0  0  1  0  1  1   3   3  1.000000\n",
       "dessert    0  0  1  0  1  0   2   2  1.584963\n",
       "taste      0  0  1  0  1  2   3   4  1.000000"
      ]
     },
     "execution_count": 81,
     "metadata": {},
     "output_type": "execute_result"
    }
   ],
   "source": [
    "df"
   ]
  },
  {
   "cell_type": "markdown",
   "metadata": {},
   "source": [
    "# Penalizing Indiscriminate Words: Inverse Document Frequency\n",
    "\n",
    "Now let's weight the document frequency so that words that occur less often (like 'sketch' and 'dessert') are more influential than words that occur a lot (like 'best').  We will calculate the ratio of total documents (N) divided by df, then take the log (base 2) of the ratio, to get our inverse document frequency number (idf) for each term (t):\n",
    "\n",
    "$$idf_t=log \\dfrac N{df_t}$$\n",
    "\n",
    "\n",
    "|   index   |df |cf| idf |\n",
    "|:-----------|---|---|:---|\n",
    "| Monty     | 2 | 2 | 1.585 |\n",
    "| Python    | 3 | 3 | 1 |\n",
    "| sketch    | 2 | 2 | 1.585 |\n",
    "| laugh     | 3 | 3 | 1 |\n",
    "| funny     | 2 | 4 | 1.585 |\n",
    "| best      | 4 | 4 | .585 |\n",
    "| ice cream | 3 | 3 | 1 |\n",
    "| dessert   | 2 | 2 | 1.585 |\n",
    "| taste     | 3 | 4 | 1 |\n",
    "\n",
    "The idf weights tell the model to consider 'best' as less important than other terms.  "
   ]
  },
  {
   "cell_type": "markdown",
   "metadata": {},
   "source": [
    "## Drill Answer\n",
    "\n",
    "This checks out."
   ]
  },
  {
   "cell_type": "code",
   "execution_count": 96,
   "metadata": {},
   "outputs": [
    {
     "data": {
      "text/html": [
       "<div>\n",
       "<style scoped>\n",
       "    .dataframe tbody tr th:only-of-type {\n",
       "        vertical-align: middle;\n",
       "    }\n",
       "\n",
       "    .dataframe tbody tr th {\n",
       "        vertical-align: top;\n",
       "    }\n",
       "\n",
       "    .dataframe thead th {\n",
       "        text-align: right;\n",
       "    }\n",
       "</style>\n",
       "<table border=\"1\" class=\"dataframe\">\n",
       "  <thead>\n",
       "    <tr style=\"text-align: right;\">\n",
       "      <th></th>\n",
       "      <th>0</th>\n",
       "      <th>1</th>\n",
       "      <th>2</th>\n",
       "      <th>3</th>\n",
       "      <th>4</th>\n",
       "      <th>5</th>\n",
       "    </tr>\n",
       "  </thead>\n",
       "  <tbody>\n",
       "    <tr>\n",
       "      <th>Monty</th>\n",
       "      <td>1.585</td>\n",
       "      <td>0.000</td>\n",
       "      <td>0.000</td>\n",
       "      <td>1.585</td>\n",
       "      <td>0.000</td>\n",
       "      <td>0.0</td>\n",
       "    </tr>\n",
       "    <tr>\n",
       "      <th>Python</th>\n",
       "      <td>1.000</td>\n",
       "      <td>1.000</td>\n",
       "      <td>0.000</td>\n",
       "      <td>1.000</td>\n",
       "      <td>0.000</td>\n",
       "      <td>0.0</td>\n",
       "    </tr>\n",
       "    <tr>\n",
       "      <th>sketch</th>\n",
       "      <td>1.585</td>\n",
       "      <td>1.585</td>\n",
       "      <td>0.000</td>\n",
       "      <td>0.000</td>\n",
       "      <td>0.000</td>\n",
       "      <td>0.0</td>\n",
       "    </tr>\n",
       "    <tr>\n",
       "      <th>laugh</th>\n",
       "      <td>1.000</td>\n",
       "      <td>1.000</td>\n",
       "      <td>0.000</td>\n",
       "      <td>1.000</td>\n",
       "      <td>0.000</td>\n",
       "      <td>0.0</td>\n",
       "    </tr>\n",
       "    <tr>\n",
       "      <th>funny</th>\n",
       "      <td>0.000</td>\n",
       "      <td>4.755</td>\n",
       "      <td>0.000</td>\n",
       "      <td>1.585</td>\n",
       "      <td>0.000</td>\n",
       "      <td>0.0</td>\n",
       "    </tr>\n",
       "    <tr>\n",
       "      <th>best</th>\n",
       "      <td>0.585</td>\n",
       "      <td>0.585</td>\n",
       "      <td>0.585</td>\n",
       "      <td>0.000</td>\n",
       "      <td>0.585</td>\n",
       "      <td>0.0</td>\n",
       "    </tr>\n",
       "    <tr>\n",
       "      <th>ice cream</th>\n",
       "      <td>0.000</td>\n",
       "      <td>0.000</td>\n",
       "      <td>1.000</td>\n",
       "      <td>0.000</td>\n",
       "      <td>1.000</td>\n",
       "      <td>1.0</td>\n",
       "    </tr>\n",
       "    <tr>\n",
       "      <th>dessert</th>\n",
       "      <td>0.000</td>\n",
       "      <td>0.000</td>\n",
       "      <td>1.585</td>\n",
       "      <td>0.000</td>\n",
       "      <td>1.585</td>\n",
       "      <td>0.0</td>\n",
       "    </tr>\n",
       "    <tr>\n",
       "      <th>taste</th>\n",
       "      <td>0.000</td>\n",
       "      <td>0.000</td>\n",
       "      <td>1.000</td>\n",
       "      <td>0.000</td>\n",
       "      <td>1.000</td>\n",
       "      <td>2.0</td>\n",
       "    </tr>\n",
       "  </tbody>\n",
       "</table>\n",
       "</div>"
      ],
      "text/plain": [
       "               0      1      2      3      4    5\n",
       "Monty      1.585  0.000  0.000  1.585  0.000  0.0\n",
       "Python     1.000  1.000  0.000  1.000  0.000  0.0\n",
       "sketch     1.585  1.585  0.000  0.000  0.000  0.0\n",
       "laugh      1.000  1.000  0.000  1.000  0.000  0.0\n",
       "funny      0.000  4.755  0.000  1.585  0.000  0.0\n",
       "best       0.585  0.585  0.585  0.000  0.585  0.0\n",
       "ice cream  0.000  0.000  1.000  0.000  1.000  1.0\n",
       "dessert    0.000  0.000  1.585  0.000  1.585  0.0\n",
       "taste      0.000  0.000  1.000  0.000  1.000  2.0"
      ]
     },
     "execution_count": 96,
     "metadata": {},
     "output_type": "execute_result"
    }
   ],
   "source": [
    "tf = df.drop(['df','cf'],1).apply(lambda x: np.round( x * x['idf'],3),axis=1 )\n",
    "\n",
    "tf.drop('idf',axis=1,inplace=True)\n",
    "\n",
    "tf"
   ]
  },
  {
   "cell_type": "code",
   "execution_count": null,
   "metadata": {},
   "outputs": [],
   "source": []
  },
  {
   "cell_type": "code",
   "execution_count": null,
   "metadata": {},
   "outputs": [],
   "source": []
  },
  {
   "cell_type": "code",
   "execution_count": 1,
   "metadata": {},
   "outputs": [],
   "source": [
    "import nltk\n",
    "from nltk.corpus import gutenberg\n",
    "nltk.download('punkt')\n",
    "nltk.download('gutenberg')\n",
    "import re\n",
    "from sklearn.model_selection import train_test_split\n",
    "\n",
    "import spacy\n",
    "spacy.load('en')\n",
    "\n",
    "\n",
    "from sklearn.feature_extraction.text import TfidfVectorizer\n",
    "\n",
    "from sklearn.decomposition import TruncatedSVD\n",
    "from sklearn.pipeline import make_pipeline\n",
    "from sklearn.preprocessing import Normalizer\n",
    "\n",
    "#reading in the data, this time in the form of paragraphs\n",
    "emma=gutenberg.paras('austen-emma.txt')\n",
    "#processing"
   ]
  },
  {
   "cell_type": "code",
   "execution_count": 5,
   "metadata": {},
   "outputs": [],
   "source": [
    "def process_txt(emma)\n",
    "    emma_paras=[]\n",
    "    for paragraph in emma:\n",
    "        para=paragraph[0]\n",
    "        #removing the double-dash from all words\n",
    "        para=[re.sub(r'--','',word) for word in para]\n",
    "        #Forming each paragraph into a string and adding it to the list of strings.\n",
    "        emma_paras.append(' '.join(para))\n",
    "\n",
    "    print(emma_paras[0:4])\n",
    "    return emma_paras"
   ]
  },
  {
   "cell_type": "code",
   "execution_count": 6,
   "metadata": {},
   "outputs": [
    {
     "name": "stdout",
     "output_type": "stream",
     "text": [
      "['[ Emma by Jane Austen 1816 ]', 'VOLUME I', 'CHAPTER I', 'Emma Woodhouse , handsome , clever , and rich , with a comfortable home and happy disposition , seemed to unite some of the best blessings of existence ; and had lived nearly twenty - one years in the world with very little to distress or vex her .']\n"
     ]
    }
   ],
   "source": [
    "emma_paras=process_txt(emma)"
   ]
  },
  {
   "cell_type": "markdown",
   "metadata": {},
   "source": [
    "# tfidf in sklearn"
   ]
  },
  {
   "cell_type": "code",
   "execution_count": 45,
   "metadata": {},
   "outputs": [
    {
     "name": "stdout",
     "output_type": "stream",
     "text": [
      "Number of features: 1948\n"
     ]
    }
   ],
   "source": [
    "X_train, X_test  = train_test_split(emma_paras, test_size=0.4, random_state=0)\n",
    "\n",
    "vectorizer = TfidfVectorizer(max_df=0.5, # drop words that occur in more than half the paragraphs\n",
    "                             min_df=2, # only use words that appear at least twice\n",
    "                             stop_words='english', \n",
    "                             lowercase=True, #convert everything to lower case (since Alice in Wonderland has the HABIT of CAPITALIZING WORDS for EMPHASIS)\n",
    "                             use_idf=True,#we definitely want to use inverse document frequencies in our weighting\n",
    "                             norm=u'l2', #Applies a correction factor so that longer paragraphs and shorter paragraphs get treated equally\n",
    "                             smooth_idf=True #Adds 1 to all document frequencies, as if an extra document existed that used every word once.  Prevents divide-by-zero errors\n",
    "                            )\n",
    "\n",
    "\n",
    "#Applying the vectorizer\n",
    "emma_paras_tfidf=vectorizer.fit_transform(emma_paras)\n",
    "print(\"Number of features: %d\" % emma_paras_tfidf.get_shape()[1])\n",
    "\n",
    "#splitting into training and test sets\n",
    "X_train_tfidf, X_test_tfidf= train_test_split(emma_paras_tfidf, test_size=0.4, random_state=0)"
   ]
  },
  {
   "cell_type": "code",
   "execution_count": 46,
   "metadata": {},
   "outputs": [],
   "source": [
    "def tfidf_csr(X_tts_tfidf,X_tts):\n",
    "    #Reshapes the vectorizer output into something people can read\n",
    "    X_tts_tfidf_csr = X_tts_tfidf.tocsr()\n",
    "    #number of paragraphs\n",
    "    n = X_tts_tfidf_csr.shape[0]\n",
    "    #A list of dictionaries, one per paragraph\n",
    "    tfidf_bypara = [{} for _ in range(0,n)]\n",
    "    #List of features\n",
    "    terms = vectorizer.get_feature_names()\n",
    "    #for each paragraph, lists the feature words and their tf-idf scores\n",
    "    for i, j in zip(*X_tts_tfidf_csr.nonzero()):\n",
    "        tfidf_bypara[i][terms[j]] = X_tts_tfidf_csr[i, j]\n",
    "    \n",
    "    #Keep in mind that the log base 2 of 1 is 0, so a tf-idf score of 0 indicates that the word was present once in that sentence.\n",
    "    print('Original sentence:', X_tts[5])\n",
    "    print('Tf_idf vector:', tfidf_bypara[5])\n",
    "    return X_tts_tfidf_csr\n",
    "    "
   ]
  },
  {
   "cell_type": "code",
   "execution_count": 47,
   "metadata": {},
   "outputs": [
    {
     "name": "stdout",
     "output_type": "stream",
     "text": [
      "Original sentence: \" And I am quite serious too , I assure you ,\" replied Mrs . Elton gaily , \" in resolving to be always on the watch , and employing my friends to watch also , that nothing really unexceptionable may pass us .\"\n",
      "Tf_idf vector: {'resolving': 0.3424390305045805, 'unexceptionable': 0.3196409792117937, 'assure': 0.267729777836069, 'friends': 0.2515333740641343, 'quite': 0.1916471918420347, 'replied': 0.20315405638674577, 'watch': 0.62300800500314, 'elton': 0.16874782424809767, 'pass': 0.28445227585106625, 'really': 0.21963852817625326, 'mrs': 0.14780961753993585}\n",
      "Original sentence: A very few minutes more , however , completed the present trial .\n",
      "Tf_idf vector: {'minutes': 0.7127450310382584, 'present': 0.701423210857947}\n"
     ]
    }
   ],
   "source": [
    "X_test_tfidf_csr = tfidf_csr(X_test_tfidf,X_test)\n",
    "\n",
    "X_train_tfidf_csr = tfidf_csr(X_train_tfidf,X_train)"
   ]
  },
  {
   "cell_type": "markdown",
   "metadata": {},
   "source": [
    "# Dimension reduction"
   ]
  },
  {
   "cell_type": "code",
   "execution_count": 48,
   "metadata": {},
   "outputs": [],
   "source": [
    "\n",
    "def dim_reduc(X_tts_tfidf,X_tts):\n",
    "    #Our SVD data reducer.  We are going to reduce the feature space from 1379 to 130.\n",
    "    svd= TruncatedSVD(130)\n",
    "    lsa = make_pipeline(svd, Normalizer(copy=False))\n",
    "    # Run SVD on the training data, then project the training data.\n",
    "    X_tts_lsa = lsa.fit_transform(X_tts_tfidf)\n",
    "\n",
    "    variance_explained=svd.explained_variance_ratio_\n",
    "    total_variance = variance_explained.sum()\n",
    "    print(\"Percent variance captured by all components:\",total_variance*100)\n",
    "\n",
    "    #Looking at what sorts of paragraphs our solution considers similar, for the first five identified topics\n",
    "    paras_by_component=pd.DataFrame(X_tts_lsa,index=X_tts)\n",
    "    for i in range(5):\n",
    "        print('Component {}:'.format(i))\n",
    "        print(paras_by_component.loc[:,i].sort_values(ascending=False)[0:4])\n",
    "    return X_tts_lsa"
   ]
  },
  {
   "cell_type": "code",
   "execution_count": 49,
   "metadata": {},
   "outputs": [
    {
     "name": "stdout",
     "output_type": "stream",
     "text": [
      "Percent variance captured by all components: 45.21270390045851\n",
      "Component 0:\n",
      "\" Oh !\"    0.99929\n",
      "\" Oh !     0.99929\n",
      "\" Oh !     0.99929\n",
      "\" Oh !     0.99929\n",
      "Name: 0, dtype: float64\n",
      "Component 1:\n",
      "\" You have made her too tall , Emma ,\" said Mr . Knightley .                                                                                                                0.635090\n",
      "\" You get upon delicate subjects , Emma ,\" said Mrs . Weston smiling ; \" remember that I am here . Mr .                                                                     0.575139\n",
      "\" I do not know what your opinion may be , Mrs . Weston ,\" said Mr . Knightley , \" of this great intimacy between Emma and Harriet Smith , but I think it a bad thing .\"    0.567149\n",
      "\" You are right , Mrs . Weston ,\" said Mr . Knightley warmly , \" Miss Fairfax is as capable as any of us of forming a just opinion of Mrs . Elton .                         0.561029\n",
      "Name: 1, dtype: float64\n",
      "Component 2:\n",
      "CHAPTER I    0.998715\n",
      "CHAPTER V    0.998715\n",
      "CHAPTER I    0.998715\n",
      "CHAPTER X    0.998715\n",
      "Name: 2, dtype: float64\n",
      "Component 3:\n",
      "\" Ah !\"     0.992917\n",
      "\" Ah !      0.992917\n",
      "But ah !    0.992917\n",
      "\" Ah !      0.992917\n",
      "Name: 3, dtype: float64\n",
      "Component 4:\n",
      "\" There were misunderstandings between them , Emma ; he said so expressly .    0.650801\n",
      "\" Are you well , my Emma ?\"                                                    0.598807\n",
      "Emma demurred .                                                                0.598807\n",
      "Emma was silenced .                                                            0.587732\n",
      "Name: 4, dtype: float64\n",
      "Percent variance captured by all components: 49.39047646003917\n",
      "Component 0:\n",
      "\" Oh !       0.999919\n",
      "\" Oh !       0.999919\n",
      "\" Oh no !    0.999919\n",
      "\" Oh !       0.999919\n",
      "Name: 0, dtype: float64\n",
      "Component 1:\n",
      "\" Well , Mrs . Weston ,\" said Emma triumphantly when he left them , \" what do you say now to Mr . Knightley ' s marrying Jane Fairfax ?\"                                                                                                                                                                                                                                                                                                             0.615948\n",
      "After tea , Mr . and Mrs . Weston , and Mr . Elton sat down with Mr . Woodhouse to cards .                                                                                                                                                                                                                                                                                                                                                           0.600398\n",
      "Frank turned instantly to Emma , to claim her former promise ; and boasted himself an engaged man , which his father looked his most perfect approbation of  and it then appeared that Mrs . Weston was wanting _him_ to dance with Mrs . Elton himself , and that their business was to help to persuade him into it , which was done pretty soon . Mr . Weston and Mrs . Elton led the way , Mr . Frank Churchill and Miss Woodhouse followed .    0.568488\n",
      "\" Mr .                                                                                                                                                                                                                                                                                                                                                                                                                                               0.520433\n",
      "Name: 1, dtype: float64\n",
      "Component 2:\n",
      "\" Ah !     0.996972\n",
      "\" Ah !     0.996972\n",
      "\" Ah !     0.996972\n",
      "\" Ah !\"    0.996972\n",
      "Name: 2, dtype: float64\n",
      "Component 3:\n",
      "\" Mr .                                                                                        0.635044\n",
      "After tea , Mr . and Mrs . Weston , and Mr . Elton sat down with Mr . Woodhouse to cards .    0.564530\n",
      "Mr . Knightley was thoughtful again .                                                         0.524393\n",
      "\" You are not vain , Mr . Knightley .                                                         0.508117\n",
      "Name: 3, dtype: float64\n",
      "Component 4:\n",
      "\" Yes , sometimes he can .\"              0.652838\n",
      "\" Yes , do .\"                            0.652838\n",
      "\" Yes .                                  0.652838\n",
      "\" Yes I should , I am sure I should .    0.638972\n",
      "Name: 4, dtype: float64\n"
     ]
    }
   ],
   "source": [
    "X_train_lsa = dim_reduc(X_train_tfidf,X_train)\n",
    "\n",
    "X_test_lsa = dim_reduc(X_test_tfidf,X_test)"
   ]
  },
  {
   "cell_type": "code",
   "execution_count": 50,
   "metadata": {},
   "outputs": [],
   "source": [
    "def sent_similarity(X_tts_lsa,X_tts):\n",
    "    # Compute document similarity using LSA components\n",
    "    similarity = np.asarray(np.asmatrix(X_tts_lsa) * np.asmatrix(X_tts_lsa).T)\n",
    "    #Only taking the first 5 sentences\n",
    "    sim_matrix=pd.DataFrame(similarity,index=X_tts).iloc[0:5,0:5]\n",
    "    #Making a plot\n",
    "    ax = sns.heatmap(sim_matrix,yticklabels=range(5))\n",
    "    plt.show()\n",
    "\n",
    "    #Generating a key for the plot.\n",
    "    print('Key:')\n",
    "    for i in range(5):\n",
    "        print(i,sim_matrix.index[i])\n"
   ]
  },
  {
   "cell_type": "code",
   "execution_count": 51,
   "metadata": {},
   "outputs": [
    {
     "data": {
      "image/png": "[encoded data removed]",
      "text/plain": [
       "<Figure size 432x288 with 2 Axes>"
      ]
     },
     "metadata": {
      "needs_background": "light"
     },
     "output_type": "display_data"
    },
    {
     "name": "stdout",
     "output_type": "stream",
     "text": [
      "Key:\n",
      "0 That is _court_ .\n",
      "1 \" Yes , sir , I did indeed ; and I am very much obliged by your kind solicitude about me .\"\n",
      "2 \" How much his business engrosses him already is very plain from the circumstance of his forgetting to inquire for the book you recommended .\n",
      "3 To restrain him as much as might be , by her own manners , she was immediately preparing to speak with exquisite calmness and gravity of the weather and the night ; but scarcely had she begun , scarcely had they passed the sweep - gate and joined the other carriage , than she found her subject cut up  her hand seized  her attention demanded , and Mr . Elton actually making violent love to her : availing himself of the precious opportunity , declaring sentiments which must be already well known , hoping  fearing  adoring  ready to die if she refused him ; but flattering himself that his ardent attachment and unequalled love and unexampled passion could not fail of having some effect , and in short , very much resolved on being seriously accepted as soon as possible .\n",
      "4 Emma smiled and answered \" My visit was of use to the nervous part of her complaint , I hope ; but not even I can charm away a sore throat ; it is a most severe cold indeed .\n"
     ]
    },
    {
     "data": {
      "image/png": "[encoded data removed]",
      "text/plain": [
       "<Figure size 432x288 with 2 Axes>"
      ]
     },
     "metadata": {
      "needs_background": "light"
     },
     "output_type": "display_data"
    },
    {
     "name": "stdout",
     "output_type": "stream",
     "text": [
      "Key:\n",
      "0 Mr . Woodhouse had so completely made up his mind to the visit , that in spite of the increasing coldness , he seemed to have no idea of shrinking from it , and set forward at last most punctually with his eldest daughter in his own carriage , with less apparent consciousness of the weather than either of the others ; too full of the wonder of his own going , and the pleasure it was to afford at Randalls to see that it was cold , and too well wrapt up to feel it .\n",
      "1 \" Oh !\n",
      "2 \" Oh no , no !\n",
      "3 Such was Jane Fairfax ' s history .\n",
      "4 \" That has been a good deal the case , my dear ; but not to the degree you mention .\n"
     ]
    }
   ],
   "source": [
    "sent_similarity(X_train_lsa,X_train)\n",
    "\n",
    "sent_similarity(X_test_lsa,X_test)"
   ]
  },
  {
   "cell_type": "markdown",
   "metadata": {},
   "source": [
    "## Drill 0: Test set\n",
    "\n",
    "Now it's your turn: Apply our LSA model to the test set. Does it identify similar sentences for components 0 through 4?\n",
    "\n",
    "\n",
    "~~So we sort of cheat to observe this result. We will simply reverse the test and the train at  the top of the code block.~~\n",
    "\n",
    "~~Thus, with minimal effort (and 0 forward useability)~~ we can observe the result difference between our test and train sets.\n",
    "\n",
    "So the above reversal does indeed give the same result, but I functionized all of this code above so it can be some what useable in the future. Now, you can simply call the functions over what ever Test Train split data you want and it'll give outputs if you change the parameters.\n",
    "\n",
    "Future work is passing in kwargs.\n",
    "\n",
    "\n",
    "### LSA Test model set\n",
    ">0. Mr . Woodhouse had so completely made up his mind to the visit , that in spite of the increasing coldness , he seemed to have no idea of shrinking from it , and set forward at last most punctually with his eldest daughter in his own carriage , with less apparent consciousness of the weather than either of the others ; too full of the wonder of his own going , and the pleasure it was to afford at Randalls to see that it was cold , and too well wrapt up to feel it .\n",
    "1. \" Oh !\n",
    "2. \" Oh no , no !\n",
    "3. Such was Jane Fairfax ' s history .\n",
    "4. \" That has been a good deal the case , my dear ; but not to the degree you mention .\n",
    "\n",
    "\n",
    "\n",
    "It appears that with in the test set sentence 1 and 2 are similar look at that! Oh! and Oh no no! are indeed similar and from different components."
   ]
  },
  {
   "cell_type": "markdown",
   "metadata": {},
   "source": [
    "## Drill 1: Tweaking tf-idf\n",
    "\n",
    "Change things up a few times and see how that affects the results of the LSA. \n",
    "\n",
    "Try adding things like :\n",
    "\n",
    ">* Lemmas\n",
    "* Named Entities\n",
    "* Or changing thresholds of exclusion / inclusion\n",
    "\n",
    "\n",
    "Write up your observations and share them with your mentor."
   ]
  },
  {
   "cell_type": "code",
   "execution_count": 61,
   "metadata": {},
   "outputs": [
    {
     "name": "stdout",
     "output_type": "stream",
     "text": [
      "Number of features: 159\n"
     ]
    }
   ],
   "source": [
    "X_train, X_test  = train_test_split(emma_paras, test_size=0.4, random_state=0)\n",
    "\n",
    "vectorizer = TfidfVectorizer(max_df=0.70, # drop words that occur in more than 70% the paragraphs\n",
    "                             min_df=21, # only use words that appear at least twice\n",
    "                             stop_words='english', \n",
    "                             lowercase=True, #convert everything to lower case (since Alice in Wonderland has the HABIT of CAPITALIZING WORDS for EMPHASIS)\n",
    "                             use_idf=True,#we definitely want to use inverse document frequencies in our weighting\n",
    "                             norm=u'l2', #Applies a correction factor so that longer paragraphs and shorter paragraphs get treated equally\n",
    "                             smooth_idf=True, #Adds 1 to all document frequencies, as if an extra document existed that used every word once.  Prevents divide-by-zero errors\n",
    "                             ngram_range=(1,3)\n",
    "                            )\n",
    "\n",
    "\n",
    "#Applying the vectorizer\n",
    "emma_paras_tfidf=vectorizer.fit_transform(emma_paras)\n",
    "print(\"Number of features: %d\" % emma_paras_tfidf.get_shape()[1])\n",
    "\n",
    "#splitting into training and test sets\n",
    "X_train_tfidf, X_test_tfidf= train_test_split(emma_paras_tfidf, test_size=0.4, random_state=0)"
   ]
  },
  {
   "cell_type": "code",
   "execution_count": 62,
   "metadata": {},
   "outputs": [
    {
     "name": "stdout",
     "output_type": "stream",
     "text": [
      "Original sentence: A very few minutes more , however , completed the present trial .\n",
      "Tf_idf vector: {'present': 1.0}\n",
      "Percent variance captured by all components: 95.91793918134421\n",
      "Component 0:\n",
      "\" My dearest Emma ,\" said he , \" for dearest you will always be , whatever the event of this hour ' s conversation , my dearest , most beloved Emma  tell me at once .    0.722590\n",
      "Emma could not have desired a more spirited rejection of Mr . Martin ' s prose .                                                                                          0.709403\n",
      "Emma was most agreeably surprized . Mr .                                                                                                                                  0.709403\n",
      "At first it was downright dulness to Emma .                                                                                                                               0.672980\n",
      "Name: 0, dtype: float64\n",
      "Component 1:\n",
      "\" Oh !    0.995972\n",
      "\" Oh !    0.995972\n",
      "\" Oh !    0.995972\n",
      "\" Oh !    0.995972\n",
      "Name: 1, dtype: float64\n",
      "Component 2:\n",
      "At first it was downright dulness to Emma .                                                                                0.661901\n",
      "Emma could not resist .                                                                                                    0.661901\n",
      "There was no bearing such an \" always ;\" and to break through her dreadful gratitude , Emma made the direct inquiry of     0.661901\n",
      "No sooner was she out of sight , than Emma exclaimed ,                                                                     0.661901\n",
      "Name: 2, dtype: float64\n",
      "Component 3:\n",
      "CHAPTER V     1.0\n",
      "CHAPTER V     1.0\n",
      "CHAPTER IX    1.0\n",
      "CHAPTER II    1.0\n",
      "Name: 3, dtype: float64\n",
      "Component 4:\n",
      "\" They told me something ,\" said Harriet rather hesitatingly ;\" but it is nothing of any consequence .\"    0.839715\n",
      "\" Well ,\" said the still waiting Harriet ;\" well  and  and what shall I do ?\"                              0.644035\n",
      "\" I see how it is ,\" said she .                                                                            0.619189\n",
      "\" What an excellent device ,\" said he , \" the use of a sheepskin for carriages .                           0.619189\n",
      "Name: 4, dtype: float64\n"
     ]
    },
    {
     "data": {
      "image/png": "[encoded data removed]",
      "text/plain": [
       "<Figure size 432x288 with 2 Axes>"
      ]
     },
     "metadata": {
      "needs_background": "light"
     },
     "output_type": "display_data"
    },
    {
     "name": "stdout",
     "output_type": "stream",
     "text": [
      "Key:\n",
      "0 That is _court_ .\n",
      "1 \" Yes , sir , I did indeed ; and I am very much obliged by your kind solicitude about me .\"\n",
      "2 \" How much his business engrosses him already is very plain from the circumstance of his forgetting to inquire for the book you recommended .\n",
      "3 To restrain him as much as might be , by her own manners , she was immediately preparing to speak with exquisite calmness and gravity of the weather and the night ; but scarcely had she begun , scarcely had they passed the sweep - gate and joined the other carriage , than she found her subject cut up  her hand seized  her attention demanded , and Mr . Elton actually making violent love to her : availing himself of the precious opportunity , declaring sentiments which must be already well known , hoping  fearing  adoring  ready to die if she refused him ; but flattering himself that his ardent attachment and unequalled love and unexampled passion could not fail of having some effect , and in short , very much resolved on being seriously accepted as soon as possible .\n",
      "4 Emma smiled and answered \" My visit was of use to the nervous part of her complaint , I hope ; but not even I can charm away a sore throat ; it is a most severe cold indeed .\n",
      "Original sentence: \" And I am quite serious too , I assure you ,\" replied Mrs . Elton gaily , \" in resolving to be always on the watch , and employing my friends to watch also , that nothing really unexceptionable may pass us .\"\n",
      "Tf_idf vector: {'mrs elton': 0.40085080318634764, 'friends': 0.470547867956699, 'quite': 0.3585177428509531, 'replied': 0.3800438349591112, 'elton': 0.3156794966779567, 'really': 0.41088162371698533, 'mrs': 0.2765100283637834}\n",
      "Percent variance captured by all components: 96.77990996549939\n",
      "Component 0:\n",
      "\" Emma ,\" said she , \" this paper is worse than I expected .                            0.599636\n",
      "Nobody had any information to give ; and , after a few more wonderings , Emma said ,    0.599636\n",
      "Emma was in no danger of forgetting .                                                   0.589448\n",
      "\" Emma !\"                                                                               0.589448\n",
      "Name: 0, dtype: float64\n",
      "Component 1:\n",
      "\" Oh !            0.996775\n",
      "\" Oh !            0.996775\n",
      "\" Oh no , no !    0.996775\n",
      "\" Oh !            0.996775\n",
      "Name: 1, dtype: float64\n",
      "Component 2:\n",
      "It was as much as Emma could bear , without being impolite .                          0.715445\n",
      "But he laughed so heartily at the recollection , that Emma could not help saying ,    0.715445\n",
      "Emma wondered on what , of all the medley , she would fix .                           0.715445\n",
      "\" And I do envy him , Emma .                                                          0.715445\n",
      "Name: 2, dtype: float64\n",
      "Component 3:\n",
      "\" It is Frank and Miss Fairfax ,\" said Mrs . Weston .                                                                                                                                                 0.595484\n",
      "\" I should not wonder ,\" said Mrs . Weston , \" if Miss Fairfax were to have been drawn on beyond her own inclination , by her aunt ' s eagerness in accepting Mrs . Elton ' s civilities for her .    0.574685\n",
      "\" Well  if you please ,\" said Mrs . Weston rather hesitating , \" if you think she will be of any use .\"                                                                                               0.555695\n",
      "\" Well ,\" said Mrs . Weston , laughing , \" perhaps the greatest good he could do them , would be to give Jane such a respectable home .\"                                                              0.512283\n",
      "Name: 3, dtype: float64\n",
      "Component 4:\n",
      "CHAPTER XIX     1.0\n",
      "CHAPTER XIII    1.0\n",
      "CHAPTER VI      1.0\n",
      "CHAPTER XV      1.0\n",
      "Name: 4, dtype: float64\n"
     ]
    },
    {
     "data": {
      "image/png": "[encoded data removed]",
      "text/plain": [
       "<Figure size 432x288 with 2 Axes>"
      ]
     },
     "metadata": {
      "needs_background": "light"
     },
     "output_type": "display_data"
    },
    {
     "name": "stdout",
     "output_type": "stream",
     "text": [
      "Key:\n",
      "0 Mr . Woodhouse had so completely made up his mind to the visit , that in spite of the increasing coldness , he seemed to have no idea of shrinking from it , and set forward at last most punctually with his eldest daughter in his own carriage , with less apparent consciousness of the weather than either of the others ; too full of the wonder of his own going , and the pleasure it was to afford at Randalls to see that it was cold , and too well wrapt up to feel it .\n",
      "1 \" Oh !\n",
      "2 \" Oh no , no !\n",
      "3 Such was Jane Fairfax ' s history .\n",
      "4 \" That has been a good deal the case , my dear ; but not to the degree you mention .\n"
     ]
    }
   ],
   "source": [
    "#Train \n",
    "X_train_tfidf_csr = tfidf_csr(X_train_tfidf,X_train) ## TFIDF / CSR Call\n",
    "X_train_lsa = dim_reduc(X_train_tfidf,X_train)#LSA Call\n",
    "sent_similarity(X_train_lsa,X_train)#Sentence Similarity Call\n",
    "\n",
    "\n",
    "\n",
    "\n",
    "# Test \n",
    "X_test_tfidf_csr = tfidf_csr(X_test_tfidf,X_test) ## TFIDF / CSR Call\n",
    "X_test_lsa = dim_reduc(X_test_tfidf,X_test)#LSA Call\n",
    "sent_similarity(X_test_lsa,X_test)#Sentence Similarity Call"
   ]
  },
  {
   "cell_type": "markdown",
   "metadata": {},
   "source": [
    "### Lemma Reduction\n"
   ]
  },
  {
   "cell_type": "code",
   "execution_count": 59,
   "metadata": {},
   "outputs": [],
   "source": [
    "nlp = spacy.load('en')"
   ]
  },
  {
   "cell_type": "code",
   "execution_count": 66,
   "metadata": {},
   "outputs": [],
   "source": [
    "# Create lemmatizer using spacy\n",
    "lemmatizer = spacy.lang.en.English()\n",
    "\n",
    "def custom_tokenizer(doc):\n",
    "    tokens = lemmatizer(doc)\n",
    "    return([token.lemma_ for token in tokens])"
   ]
  },
  {
   "cell_type": "code",
   "execution_count": 67,
   "metadata": {},
   "outputs": [
    {
     "name": "stderr",
     "output_type": "stream",
     "text": [
      "c:\\users\\zdwhi\\appdata\\local\\programs\\python\\python37\\lib\\site-packages\\sklearn\\feature_extraction\\text.py:300: UserWarning: Your stop_words may be inconsistent with your preprocessing. Tokenizing the stop words generated tokens ['3', 'far', 'good', 'little', 'make', '\\ufeff1'] not in stop_words.\n",
      "  'stop_words.' % sorted(inconsistent))\n"
     ]
    },
    {
     "name": "stdout",
     "output_type": "stream",
     "text": [
      "Number of features: 299\n"
     ]
    }
   ],
   "source": [
    "\n",
    "X_train, X_test  = train_test_split(emma_paras, test_size=0.4, random_state=0)\n",
    "\n",
    "vectorizer = TfidfVectorizer(max_df=0.70, # drop words that occur in more than 70% the paragraphs\n",
    "                             min_df=21, # only use words that appear at least twice\n",
    "                             stop_words='english', \n",
    "                             lowercase=True, #convert everything to lower case (since Alice in Wonderland has the HABIT of CAPITALIZING WORDS for EMPHASIS)\n",
    "                             use_idf=True,#we definitely want to use inverse document frequencies in our weighting\n",
    "                             norm=u'l2', #Applies a correction factor so that longer paragraphs and shorter paragraphs get treated equally\n",
    "                             smooth_idf=True, #Adds 1 to all document frequencies, as if an extra document existed that used every word once.  Prevents divide-by-zero errors\n",
    "                             ngram_range=(1,3),\n",
    "                             tokenizer=custom_tokenizer\n",
    "                            )\n",
    "\n",
    "\n",
    "#Applying the vectorizer\n",
    "emma_paras_tfidf=vectorizer.fit_transform(emma_paras)\n",
    "print(\"Number of features: %d\" % emma_paras_tfidf.get_shape()[1])\n",
    "\n",
    "#splitting into training and test sets\n",
    "X_train_tfidf, X_test_tfidf= train_test_split(emma_paras_tfidf, test_size=0.4, random_state=0)"
   ]
  },
  {
   "cell_type": "code",
   "execution_count": 68,
   "metadata": {},
   "outputs": [
    {
     "name": "stdout",
     "output_type": "stream",
     "text": [
      "Original sentence: A very few minutes more , however , completed the present trial .\n",
      "Tf_idf vector: {'minute': 0.6048822879659885, 'present': 0.6006097202605738, ', ,': 0.4179910133431656, ',': 0.314116052435879}\n",
      "Percent variance captured by all components: 84.08586339444872\n",
      "Component 0:\n",
      "\" I am very glad you did , and that you communicated it to me .                                                                   0.817020\n",
      "\" I see no probability in it , unless you have any better foundation than what you mention .                                      0.817020\n",
      "\" As to the circumstances of her birth , though in a legal sense she may be called Nobody , it will not hold in common sense .    0.783664\n",
      "\" Myself creating what I saw ,\"                                                                                                   0.744929\n",
      "Name: 0, dtype: float64\n",
      "Component 1:\n",
      "\" Oh !\"    0.697947\n",
      "\" Oh !\"    0.697947\n",
      "\" Oh !\"    0.697947\n",
      "\" Oh !\"    0.697947\n",
      "Name: 1, dtype: float64\n",
      "Component 2:\n",
      "Oh !      0.711196\n",
      "\" Oh !    0.647821\n",
      "\" Oh !    0.647821\n",
      "\" Oh !    0.647821\n",
      "Name: 2, dtype: float64\n",
      "Component 3:\n",
      "CHAPTER I      1.0\n",
      "CHAPTER XVI    1.0\n",
      "CHAPTER XIV    1.0\n",
      "CHAPTER X      1.0\n",
      "Name: 3, dtype: float64\n",
      "Component 4:\n",
      "\" In one respect , perhaps , Mr . Elton ' s manners are superior to Mr . Knightley ' s or Mr . Weston ' s .                                                                                                         0.563952\n",
      "Mr . Knightley had done all in his power for Mr . Woodhouse ' s entertainment .                                                                                                                                     0.483043\n",
      "Some change of countenance was necessary for each gentleman as they walked into Mrs . Weston ' s drawing - room ; Mr . Elton must compose his joyous looks , and Mr . John Knightley disperse his ill - humour .    0.459599\n",
      "The very day of Mr . Elton ' s going to London produced a fresh occasion for Emma ' s services towards her friend .                                                                                                 0.459371\n",
      "Name: 4, dtype: float64\n"
     ]
    },
    {
     "data": {
      "image/png": "[encoded data removed]",
      "text/plain": [
       "<Figure size 432x288 with 2 Axes>"
      ]
     },
     "metadata": {
      "needs_background": "light"
     },
     "output_type": "display_data"
    },
    {
     "name": "stdout",
     "output_type": "stream",
     "text": [
      "Key:\n",
      "0 That is _court_ .\n",
      "1 \" Yes , sir , I did indeed ; and I am very much obliged by your kind solicitude about me .\"\n",
      "2 \" How much his business engrosses him already is very plain from the circumstance of his forgetting to inquire for the book you recommended .\n",
      "3 To restrain him as much as might be , by her own manners , she was immediately preparing to speak with exquisite calmness and gravity of the weather and the night ; but scarcely had she begun , scarcely had they passed the sweep - gate and joined the other carriage , than she found her subject cut up  her hand seized  her attention demanded , and Mr . Elton actually making violent love to her : availing himself of the precious opportunity , declaring sentiments which must be already well known , hoping  fearing  adoring  ready to die if she refused him ; but flattering himself that his ardent attachment and unequalled love and unexampled passion could not fail of having some effect , and in short , very much resolved on being seriously accepted as soon as possible .\n",
      "4 Emma smiled and answered \" My visit was of use to the nervous part of her complaint , I hope ; but not even I can charm away a sore throat ; it is a most severe cold indeed .\n",
      "Original sentence: \" And I am quite serious too , I assure you ,\" replied Mrs . Elton gaily , \" in resolving to be always on the watch , and employing my friends to watch also , that nothing really unexceptionable may pass us .\"\n",
      "Tf_idf vector: {'mrs . elton': 0.24483458561128704, 'assure': 0.2852343627929971, 'quite': 0.21897808937257143, ', \" reply': 0.24294568484504145, '\" reply': 0.24294568484504145, 'reply': 0.225787454667125, '. \"': 0.15798936991372647, '. elton': 0.19351159761733663, 'elton': 0.19281303203276093, 'pass': 0.26455787630515154, ', \"': 0.2771090994949695, '\"': 0.3019922230664419, 'really': 0.2509612835458754, 'mrs .': 0.16888881766900216, 'mrs': 0.16888881766900216, 'friend': 0.22135035385465512, ',': 0.3676037447610873}\n",
      "Percent variance captured by all components: 86.26410203256171\n",
      "Component 0:\n",
      "\" If not in our dispositions ,\" she presently added , with a look of true sensibility , \" there is a likeness in our destiny ; the destiny which bids fair to connect us with two characters so much superior to our own .\"    0.659088\n",
      "\" This present from the Campbells ,\" said she \" this pianoforte is very kindly given .\"                                                                                                                                        0.639607\n",
      "\" My dear Emma ,\" said he , moving from his chair into one close by her , \" you are not going to tell me , I hope , that you had not a pleasant evening .\"                                                                     0.639598\n",
      "\" So scrupulous for others ,\" he continued , \" and yet so careless for herself !                                                                                                                                               0.634836\n",
      "Name: 0, dtype: float64\n",
      "Component 1:\n",
      "\" Oh !\"    0.765105\n",
      "\" Oh !\"    0.765105\n",
      "\" Oh !     0.743966\n",
      "\" Oh !     0.743966\n",
      "Name: 1, dtype: float64\n",
      "Component 2:\n",
      "\" Oh !    0.55458\n",
      "\" Oh !    0.55458\n",
      "\" Oh !    0.55458\n",
      "\" Oh !    0.55458\n",
      "Name: 2, dtype: float64\n",
      "Component 3:\n",
      "CHAPTER XVIII    0.93551\n",
      "CHAPTER XII      0.93551\n",
      "CHAPTER XV       0.93551\n",
      "CHAPTER XVIII    0.93551\n",
      "Name: 3, dtype: float64\n",
      "Component 4:\n",
      "\" Mr . Elton in love with me ! What an idea !\"                           0.458780\n",
      "Mr . Knightley had another reason for avoiding a table in the shade .    0.453077\n",
      "Mr . Knightley shook his head at her .                                   0.453077\n",
      "Mr . Knightley was thoughtful again .                                    0.453077\n",
      "Name: 4, dtype: float64\n"
     ]
    },
    {
     "data": {
      "image/png": "[encoded data removed]",
      "text/plain": [
       "<Figure size 432x288 with 2 Axes>"
      ]
     },
     "metadata": {
      "needs_background": "light"
     },
     "output_type": "display_data"
    },
    {
     "name": "stdout",
     "output_type": "stream",
     "text": [
      "Key:\n",
      "0 Mr . Woodhouse had so completely made up his mind to the visit , that in spite of the increasing coldness , he seemed to have no idea of shrinking from it , and set forward at last most punctually with his eldest daughter in his own carriage , with less apparent consciousness of the weather than either of the others ; too full of the wonder of his own going , and the pleasure it was to afford at Randalls to see that it was cold , and too well wrapt up to feel it .\n",
      "1 \" Oh !\n",
      "2 \" Oh no , no !\n",
      "3 Such was Jane Fairfax ' s history .\n",
      "4 \" That has been a good deal the case , my dear ; but not to the degree you mention .\n"
     ]
    }
   ],
   "source": [
    "#Train \n",
    "X_train_tfidf_csr = tfidf_csr(X_train_tfidf,X_train) ## TFIDF / CSR Call\n",
    "X_train_lsa = dim_reduc(X_train_tfidf,X_train)#LSA Call\n",
    "sent_similarity(X_train_lsa,X_train)#Sentence Similarity Call\n",
    "\n",
    "\n",
    "\n",
    "\n",
    "# Test \n",
    "X_test_tfidf_csr = tfidf_csr(X_test_tfidf,X_test) ## TFIDF / CSR Call\n",
    "X_test_lsa = dim_reduc(X_test_tfidf,X_test)#LSA Call\n",
    "sent_similarity(X_test_lsa,X_test)#Sentence Similarity Call"
   ]
  },
  {
   "cell_type": "code",
   "execution_count": null,
   "metadata": {},
   "outputs": [],
   "source": []
  }
 ],
 "metadata": {
  "kernelspec": {
   "display_name": "Python 3",
   "language": "python",
   "name": "python3"
  },
  "language_info": {
   "codemirror_mode": {
    "name": "ipython",
    "version": 3
   },
   "file_extension": ".py",
   "mimetype": "text/x-python",
   "name": "python",
   "nbconvert_exporter": "python",
   "pygments_lexer": "ipython3",
   "version": "3.7.2"
  }
 },
 "nbformat": 4,
 "nbformat_minor": 2
}
