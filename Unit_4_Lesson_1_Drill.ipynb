{
  "nbformat": 4,
  "nbformat_minor": 0,
  "metadata": {
    "colab": {
      "name": "Unit 4 Lesson 1 Drill",
      "version": "0.3.2",
      "provenance": [],
      "include_colab_link": true
    },
    "kernelspec": {
      "name": "python3",
      "display_name": "Python 3"
    }
  },
  "cells": [
    {
      "cell_type": "markdown",
      "metadata": {
        "id": "view-in-github",
        "colab_type": "text"
      },
      "source": [
        "<a href=\"https://colab.research.google.com/github/zdwhite/Thinkful-Unit4/blob/master/Unit_4_Lesson_1_Drill.ipynb\" target=\"_parent\"><img src=\"https://colab.research.google.com/assets/colab-badge.svg\" alt=\"Open In Colab\"/></a>"
      ]
    },
    {
      "metadata": {
        "id": "u-Wg0t3Mx56u",
        "colab_type": "text"
      },
      "cell_type": "markdown",
      "source": [
        "For each of these scenarios decide if you could use supervised or unsupervised techniques, or both!\n",
        "\n",
        "1. Define the likelihood that an individual will contract a specific disease\n",
        "2. Translate a set of images into variables for modeling\n",
        "3. An ecommerce company wants to identify power users\n",
        "4. That same company wants to see shopping patterns in users\n",
        "5. You want to reduce the number of variables inputting into your random forest model\n",
        "\n",
        "\n",
        "1. Supervised (some form of logistic regression)\n",
        "2. Both? If supervised,  possible some form of KNN. If unsupervised ??\n",
        "3. Supervised learning, You have or can clearly develop what the dependent variable of a \"power user is\"\n",
        "4. Supervised approaches such as random forests or DT ensembles could be used for trends where a dependant variable is known or established. However when you don't know what you're looking for or the types of classifications to optimized for an unsupervised approach could work.\n",
        "5. Both! PCA can be used to reduce features and is considered \"unsupervised\" as previously stated. But simple feature correlation and lumping a supervised approach can be used as well.\n"
      ]
    }
  ]
}