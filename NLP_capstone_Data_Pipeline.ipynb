{
  "nbformat": 4,
  "nbformat_minor": 0,
  "metadata": {
    "colab": {
      "name": "NLP capstone Data Pipeline",
      "version": "0.3.2",
      "provenance": [],
      "toc_visible": true,
      "include_colab_link": true
    },
    "kernelspec": {
      "name": "python3",
      "display_name": "Python 3"
    }
  },
  "cells": [
    {
      "cell_type": "markdown",
      "metadata": {
        "id": "view-in-github",
        "colab_type": "text"
      },
      "source": [
        "<a href=\"https://colab.research.google.com/github/zdwhite/Thinkful-Unit-4/blob/master/NLP_capstone_Data_Pipeline.ipynb\" target=\"_parent\"><img src=\"https://colab.research.google.com/assets/colab-badge.svg\" alt=\"Open In Colab\"/></a>"
      ]
    },
    {
      "metadata": {
        "id": "Va938apWfPvb",
        "colab_type": "code",
        "outputId": "f31f2f73-cb68-41fd-94c2-db6377cc323d",
        "colab": {
          "base_uri": "https://localhost:8080/"
        }
      },
      "cell_type": "code",
      "source": [
        "!pip install praw"
      ],
      "execution_count": 15,
      "outputs": [
        {
          "output_type": "stream",
          "text": [
            "Requirement already satisfied: praw in /usr/local/lib/python3.6/dist-packages (6.1.1)\n",
            "Requirement already satisfied: prawcore<2.0,>=1.0.0 in /usr/local/lib/python3.6/dist-packages (from praw) (1.0.1)\n",
            "Requirement already satisfied: websocket-client>=0.54.0 in /usr/local/lib/python3.6/dist-packages (from praw) (0.56.0)\n",
            "Requirement already satisfied: update-checker>=0.16 in /usr/local/lib/python3.6/dist-packages (from praw) (0.16)\n",
            "Requirement already satisfied: requests<3.0,>=2.6.0 in /usr/local/lib/python3.6/dist-packages (from prawcore<2.0,>=1.0.0->praw) (2.18.4)\n",
            "Requirement already satisfied: six in /usr/local/lib/python3.6/dist-packages (from websocket-client>=0.54.0->praw) (1.11.0)\n",
            "Requirement already satisfied: chardet<3.1.0,>=3.0.2 in /usr/local/lib/python3.6/dist-packages (from requests<3.0,>=2.6.0->prawcore<2.0,>=1.0.0->praw) (3.0.4)\n",
            "Requirement already satisfied: certifi>=2017.4.17 in /usr/local/lib/python3.6/dist-packages (from requests<3.0,>=2.6.0->prawcore<2.0,>=1.0.0->praw) (2019.3.9)\n",
            "Requirement already satisfied: idna<2.7,>=2.5 in /usr/local/lib/python3.6/dist-packages (from requests<3.0,>=2.6.0->prawcore<2.0,>=1.0.0->praw) (2.6)\n",
            "Requirement already satisfied: urllib3<1.23,>=1.21.1 in /usr/local/lib/python3.6/dist-packages (from requests<3.0,>=2.6.0->prawcore<2.0,>=1.0.0->praw) (1.22)\n"
          ],
          "name": "stdout"
        }
      ]
    },
    {
      "metadata": {
        "id": "S7uPfVUwWxMb",
        "colab_type": "code",
        "colab": {}
      },
      "cell_type": "code",
      "source": [
        "import requests\n",
        "import praw\n",
        "import time\n",
        "import pandas as pd\n",
        "import json\n",
        "import seaborn as sns\n",
        "\n",
        "import warnings\n",
        "warnings.simplefilter(action='ignore')"
      ],
      "execution_count": 0,
      "outputs": []
    },
    {
      "metadata": {
        "id": "3FQtz6y9SmYx",
        "colab_type": "text"
      },
      "cell_type": "markdown",
      "source": [
        "# Scraping Reddit"
      ]
    },
    {
      "metadata": {
        "id": "AGUC8HkFehlC",
        "colab_type": "code",
        "colab": {}
      },
      "cell_type": "code",
      "source": [
        "\n",
        "reddit = praw.Reddit(user_agent='Scrape_bot',\n",
        "                     client_id='_XX9OWL3X9Gv-A', client_secret=\"vAvTdaG9JYkrjd2Pe2_r5Q3wrIo\")"
      ],
      "execution_count": 0,
      "outputs": []
    },
    {
      "metadata": {
        "id": "LbWb_fbo3XfA",
        "colab_type": "code",
        "colab": {}
      },
      "cell_type": "code",
      "source": [
        "## Define the subreddits you want to scrape the top submissions from.\n",
        "\n",
        "subreddits = ['politics','The_Donald','changemyview','conspiracy']"
      ],
      "execution_count": 0,
      "outputs": []
    },
    {
      "metadata": {
        "id": "HH7_2ZI-SqNF",
        "colab_type": "text"
      },
      "cell_type": "markdown",
      "source": [
        "## Subreddit Top Submissions"
      ]
    },
    {
      "metadata": {
        "id": "EVY5QiiIADql",
        "colab_type": "code",
        "colab": {}
      },
      "cell_type": "code",
      "source": [
        "def scrape_submissions(subreddits):\n",
        "  submissions_data = pd.DataFrame()\n",
        "  for sub in subreddits:\n",
        "    print(sub)\n",
        "    #sub = reddit.subreddit(sub)\n",
        "    #print(sub)\n",
        "    #top_sub = subreddit.top(limit = 50)\n",
        "    submissions_dict = { \"title\":[], \n",
        "                \"score\":[], \n",
        "                \"id\":[], \n",
        "                #\"url\":[], \n",
        "                \"comms_num\": [], \n",
        "                \"created\": [], \n",
        "                \"subreddit\":[]}\n",
        "\n",
        "    for submission in reddit.subreddit(sub).top(limit=50):\n",
        "      \n",
        "        submissions_dict[\"title\"].append(submission.title)\n",
        "        submissions_dict[\"score\"].append(submission.score)\n",
        "        submissions_dict[\"id\"].append(submission.id)\n",
        "        #submissions_dict[\"url\"].append(submission.url)\n",
        "        submissions_dict[\"comms_num\"].append(submission.num_comments)\n",
        "        submissions_dict[\"created\"].append(submission.created)\n",
        "        submissions_dict['subreddit'].append(submission.subreddit)\n",
        "    \n",
        "    subs = pd.DataFrame(submissions_dict)\n",
        "    submissions_data=submissions_data.append(subs,ignore_index=True)\n",
        "    #print(pd.DataFrame(submissions_dict))\n",
        "  return submissions_data"
      ],
      "execution_count": 0,
      "outputs": []
    },
    {
      "metadata": {
        "id": "IP2fOheE86EI",
        "colab_type": "code",
        "outputId": "6cd28f33-0a27-4b68-99e4-d8ddd03583cf",
        "colab": {
          "base_uri": "https://localhost:8080/"
        }
      },
      "cell_type": "code",
      "source": [
        "#### DATA FRAME NOT APPENDIND TO SUBMISSIONS_DATA ?????\n",
        "top_submissions = scrape_submissions(subreddits)"
      ],
      "execution_count": 20,
      "outputs": [
        {
          "output_type": "stream",
          "text": [
            "politics\n",
            "The_Donald\n",
            "changemyview\n",
            "conspiracy\n"
          ],
          "name": "stdout"
        }
      ]
    },
    {
      "metadata": {
        "id": "vWlzwPfs851E",
        "colab_type": "code",
        "outputId": "a40743aa-7120-4e8e-b4a6-2dbad23bfbff",
        "colab": {
          "base_uri": "https://localhost:8080/"
        }
      },
      "cell_type": "code",
      "source": [
        "#It looks like it works!\n",
        "top_submissions['subreddit'].value_counts(normalize=True)"
      ],
      "execution_count": 21,
      "outputs": [
        {
          "output_type": "execute_result",
          "data": {
            "text/plain": [
              "changemyview    0.25\n",
              "conspiracy      0.25\n",
              "politics        0.25\n",
              "The_Donald      0.25\n",
              "Name: subreddit, dtype: float64"
            ]
          },
          "metadata": {
            "tags": []
          },
          "execution_count": 21
        }
      ]
    },
    {
      "metadata": {
        "id": "HygmPwp6TyYR",
        "colab_type": "code",
        "outputId": "fc484461-fe80-44e8-912a-aa23e888760e",
        "colab": {
          "base_uri": "https://localhost:8080/"
        }
      },
      "cell_type": "code",
      "source": [
        "top_submissions.info()"
      ],
      "execution_count": 22,
      "outputs": [
        {
          "output_type": "stream",
          "text": [
            "<class 'pandas.core.frame.DataFrame'>\n",
            "RangeIndex: 200 entries, 0 to 199\n",
            "Data columns (total 6 columns):\n",
            "comms_num    200 non-null int64\n",
            "created      200 non-null float64\n",
            "id           200 non-null object\n",
            "score        200 non-null int64\n",
            "subreddit    200 non-null object\n",
            "title        200 non-null object\n",
            "dtypes: float64(1), int64(2), object(3)\n",
            "memory usage: 9.5+ KB\n"
          ],
          "name": "stdout"
        }
      ]
    },
    {
      "metadata": {
        "id": "Op8aks4-dRca",
        "colab_type": "code",
        "colab": {
          "base_uri": "https://localhost:8080/"
        },
        "outputId": "00273bd2-efe9-4cb6-d959-f0d8dbe54adc"
      },
      "cell_type": "code",
      "source": [
        "reddit.submission(top_submissions['id'][0]).comments.list()"
      ],
      "execution_count": 23,
      "outputs": [
        {
          "output_type": "execute_result",
          "data": {
            "text/plain": [
              "[Comment(id='e973fu0'),\n",
              " Comment(id='e973jxg'),\n",
              " Comment(id='e975nkn'),\n",
              " Comment(id='e973okz'),\n",
              " Comment(id='e974hw8'),\n",
              " Comment(id='e974caa'),\n",
              " Comment(id='e9757lf'),\n",
              " Comment(id='e973mih'),\n",
              " Comment(id='e973kvy'),\n",
              " Comment(id='e9745bp'),\n",
              " Comment(id='e978rxn'),\n",
              " Comment(id='e97bp1c'),\n",
              " Comment(id='e97cee7'),\n",
              " Comment(id='e9746jd'),\n",
              " Comment(id='e974a5b'),\n",
              " Comment(id='e973nbs'),\n",
              " Comment(id='e973ml6'),\n",
              " Comment(id='e976a2t'),\n",
              " Comment(id='e977736'),\n",
              " Comment(id='e976eau'),\n",
              " Comment(id='e978nyk'),\n",
              " Comment(id='e9751c8'),\n",
              " Comment(id='e97bo1f'),\n",
              " Comment(id='e9758ug'),\n",
              " Comment(id='e975hng'),\n",
              " Comment(id='e9775rm'),\n",
              " Comment(id='e973my0'),\n",
              " Comment(id='e977ye8'),\n",
              " Comment(id='e976pnx'),\n",
              " Comment(id='e978jby'),\n",
              " Comment(id='e977cew'),\n",
              " Comment(id='e97a8e0'),\n",
              " Comment(id='e97658g'),\n",
              " Comment(id='e977h9i'),\n",
              " Comment(id='e978bp2'),\n",
              " Comment(id='e9792gh'),\n",
              " Comment(id='e974885'),\n",
              " Comment(id='e974ntg'),\n",
              " Comment(id='e976kel'),\n",
              " Comment(id='e978ywn'),\n",
              " Comment(id='e9791ip'),\n",
              " Comment(id='e97523n'),\n",
              " Comment(id='e97amd1'),\n",
              " Comment(id='e974rtm'),\n",
              " Comment(id='e9789y6'),\n",
              " Comment(id='e978ern'),\n",
              " Comment(id='e975v31'),\n",
              " Comment(id='e97r926'),\n",
              " Comment(id='e97h1r5'),\n",
              " Comment(id='e98kyr7'),\n",
              " Comment(id='e9cjpi5'),\n",
              " Comment(id='e9ivwb4'),\n",
              " Comment(id='e978qmm'),\n",
              " Comment(id='e97dkq1'),\n",
              " Comment(id='e975g7v'),\n",
              " Comment(id='e976noa'),\n",
              " Comment(id='e97aj0m'),\n",
              " Comment(id='e977pqq'),\n",
              " Comment(id='e9783qs'),\n",
              " Comment(id='e978ld4'),\n",
              " Comment(id='e97a7oa'),\n",
              " Comment(id='e97a90m'),\n",
              " Comment(id='e97ezbp'),\n",
              " Comment(id='e97fo3z'),\n",
              " Comment(id='e97h14s'),\n",
              " Comment(id='e97hxzo'),\n",
              " Comment(id='e97i8bk'),\n",
              " Comment(id='e97kiai'),\n",
              " Comment(id='e97kiyb'),\n",
              " Comment(id='e97nbkh'),\n",
              " Comment(id='e9897x7'),\n",
              " Comment(id='e98didi'),\n",
              " Comment(id='e9hwld8'),\n",
              " Comment(id='e976x8r'),\n",
              " Comment(id='e977fuy'),\n",
              " Comment(id='e978uzk'),\n",
              " Comment(id='e973pk5'),\n",
              " Comment(id='e9787g3'),\n",
              " Comment(id='e9794xx'),\n",
              " Comment(id='e9796xo'),\n",
              " Comment(id='e9797mj'),\n",
              " Comment(id='e9798pc'),\n",
              " Comment(id='e97992q'),\n",
              " Comment(id='e979t02'),\n",
              " Comment(id='e97a8f0'),\n",
              " Comment(id='e97aogt'),\n",
              " Comment(id='e97c1oh'),\n",
              " Comment(id='e97er9b'),\n",
              " Comment(id='e97fb7j'),\n",
              " Comment(id='e97fnqn'),\n",
              " Comment(id='e97h7l1'),\n",
              " Comment(id='e97s6bf'),\n",
              " Comment(id='e97tcz7'),\n",
              " Comment(id='e9828f9'),\n",
              " Comment(id='e988t93'),\n",
              " Comment(id='e9bwrv9'),\n",
              " Comment(id='e9e9ip1'),\n",
              " Comment(id='e9k0f0u'),\n",
              " Comment(id='e974kzh'),\n",
              " Comment(id='e974eue'),\n",
              " Comment(id='e976wr4'),\n",
              " Comment(id='e977m5g'),\n",
              " Comment(id='e97agfl'),\n",
              " Comment(id='e97aw2u'),\n",
              " Comment(id='e977igj'),\n",
              " Comment(id='e977chg'),\n",
              " Comment(id='e97akbl'),\n",
              " Comment(id='e9749ar'),\n",
              " Comment(id='e974h4d'),\n",
              " Comment(id='e974z74'),\n",
              " Comment(id='e9771zx'),\n",
              " Comment(id='e9772md'),\n",
              " Comment(id='e9773ms'),\n",
              " Comment(id='e977b4p'),\n",
              " Comment(id='e977wfb'),\n",
              " Comment(id='e9789jv'),\n",
              " Comment(id='e978s75'),\n",
              " Comment(id='e979x9x'),\n",
              " Comment(id='e97a0bx'),\n",
              " Comment(id='e97a6g5'),\n",
              " <MoreComments count=1415, children=['e97elmq', 'e998mbn', 'e984t1g', '...']>,\n",
              " <MoreComments count=1, children=['e97vckz']>,\n",
              " Comment(id='e9784jb'),\n",
              " Comment(id='e9748w0'),\n",
              " Comment(id='e974shr'),\n",
              " Comment(id='e975otl'),\n",
              " Comment(id='e977v88'),\n",
              " Comment(id='e976rgc'),\n",
              " Comment(id='e977cgv'),\n",
              " Comment(id='e975ewl'),\n",
              " Comment(id='e974a5w'),\n",
              " Comment(id='e975rf3'),\n",
              " Comment(id='e979idx'),\n",
              " Comment(id='e977mut'),\n",
              " Comment(id='e9782wy'),\n",
              " Comment(id='e978902'),\n",
              " Comment(id='e978c5g'),\n",
              " <MoreComments count=45, children=['e98am7f', 'e986sqw', 'e983kzt', '...']>,\n",
              " Comment(id='e978dd5'),\n",
              " Comment(id='e978kg6'),\n",
              " Comment(id='e978vf8'),\n",
              " Comment(id='e978dxb'),\n",
              " Comment(id='e9771vk'),\n",
              " Comment(id='e979wlm'),\n",
              " <MoreComments count=49, children=['e97tk75', 'e97doqv', 'e97duh5', '...']>,\n",
              " Comment(id='e978264'),\n",
              " Comment(id='e975k3n'),\n",
              " Comment(id='e978h8h'),\n",
              " Comment(id='e97k7fb'),\n",
              " Comment(id='e97941u'),\n",
              " <MoreComments count=7, children=['e991mub', 'e97hhgl', 'e97ghr7', '...']>,\n",
              " Comment(id='e977cub'),\n",
              " Comment(id='e97nimv'),\n",
              " Comment(id='e97etit'),\n",
              " Comment(id='e97aluh'),\n",
              " <MoreComments count=5, children=['e97f4wc', 'e97u26y', 'e989l3v', '...']>,\n",
              " Comment(id='e974soz'),\n",
              " Comment(id='e9759si'),\n",
              " Comment(id='e97awk3'),\n",
              " Comment(id='e97c2jx'),\n",
              " <MoreComments count=13, children=['e979e4j', 'e97kxof', 'e978345', '...']>,\n",
              " Comment(id='e978i4w'),\n",
              " Comment(id='e97cm6v'),\n",
              " Comment(id='e97ezfx'),\n",
              " Comment(id='e97dak4'),\n",
              " <MoreComments count=6, children=['e97eq6x', 'e97yaom']>,\n",
              " Comment(id='e974z4b'),\n",
              " Comment(id='e977qw3'),\n",
              " Comment(id='e9783wy'),\n",
              " Comment(id='e974trk'),\n",
              " Comment(id='e978glb'),\n",
              " <MoreComments count=7, children=['e97d9w2', 'e977oen', 'e97blpz']>,\n",
              " Comment(id='e974ikv'),\n",
              " Comment(id='e975x8n'),\n",
              " Comment(id='e975pey'),\n",
              " Comment(id='e978qil'),\n",
              " Comment(id='e979fv5'),\n",
              " <MoreComments count=1, children=['e9740j3']>,\n",
              " <MoreComments count=5, children=['e989hkv', 'e9869sn']>,\n",
              " <MoreComments count=8, children=['e98g4oy', 'e98alsb', 'e984mqu']>,\n",
              " <MoreComments count=12, children=['e97wsuc']>,\n",
              " <MoreComments count=4, children=['e97h403', 'e987lks', 'e98x0tf', 'e97dndb']>,\n",
              " Comment(id='e979o6t'),\n",
              " Comment(id='e97m44e'),\n",
              " Comment(id='e97bgla'),\n",
              " Comment(id='e973pef'),\n",
              " Comment(id='e97d4xh'),\n",
              " Comment(id='e9799r7'),\n",
              " Comment(id='e978r5m'),\n",
              " Comment(id='e977f9f'),\n",
              " Comment(id='e97ejy8'),\n",
              " <MoreComments count=33, children=['e97qyma', 'e978kij', 'e97blxg', '...']>,\n",
              " Comment(id='e97lpg2'),\n",
              " <MoreComments count=1, children=['e984ilc']>,\n",
              " <MoreComments count=6, children=['e97c5ke']>,\n",
              " <MoreComments count=3, children=['e97cyc2']>,\n",
              " <MoreComments count=1, children=['e97msgs']>,\n",
              " Comment(id='e9743ww'),\n",
              " Comment(id='e97duet'),\n",
              " Comment(id='e978lag'),\n",
              " <MoreComments count=1, children=['e97fftr']>,\n",
              " <MoreComments count=1, children=['e97dw70']>,\n",
              " Comment(id='e979hai'),\n",
              " <MoreComments count=4, children=['e97x8vc', 'e97b1zl', 'e97e8e6']>,\n",
              " Comment(id='e979rub'),\n",
              " <MoreComments count=5, children=['e97cv8q', 'e9898do']>,\n",
              " <MoreComments count=1, children=['e989xz6']>,\n",
              " <MoreComments count=2, children=['e979s61', 'e97ozqd']>,\n",
              " Comment(id='e97tegk'),\n",
              " <MoreComments count=1, children=['e97g9gw']>,\n",
              " <MoreComments count=2, children=['e97e0ak', 'e97mjof']>,\n",
              " <MoreComments count=1, children=['e97vshb']>,\n",
              " <MoreComments count=1, children=['e98az2n']>,\n",
              " <MoreComments count=2, children=['e97evpn']>,\n",
              " <MoreComments count=1, children=['e97rydj']>,\n",
              " Comment(id='e979r4r'),\n",
              " <MoreComments count=1, children=['e97du2i']>,\n",
              " Comment(id='e9782wk'),\n",
              " <MoreComments count=3, children=['e9791ww', 'e97s6q8', 'e979g39']>,\n",
              " Comment(id='e97f91x'),\n",
              " <MoreComments count=1, children=['e97fjgy']>,\n",
              " Comment(id='e97aokz'),\n",
              " <MoreComments count=1, children=['e97hze2']>,\n",
              " <MoreComments count=2, children=['e97gyoo']>,\n",
              " <MoreComments count=1, children=['e98ck8e']>,\n",
              " <MoreComments count=1, children=['e976mgr']>,\n",
              " Comment(id='e977qnb'),\n",
              " <MoreComments count=2, children=['e97i6m0']>,\n",
              " Comment(id='e979gve'),\n",
              " Comment(id='e97duca'),\n",
              " <MoreComments count=119, children=['e979y9s', 'e97bhol', 'e97qqnk', '...']>,\n",
              " <MoreComments count=1, children=['e97d8bp']>,\n",
              " <MoreComments count=1, children=['e97sc0u']>,\n",
              " Comment(id='e97aj5r'),\n",
              " Comment(id='e97eym6'),\n",
              " Comment(id='e97arlb'),\n",
              " Comment(id='e97lrg9'),\n",
              " Comment(id='e97oef3'),\n",
              " Comment(id='e97g5rx'),\n",
              " Comment(id='e97g967'),\n",
              " Comment(id='e97j57c'),\n",
              " Comment(id='e97odvr'),\n",
              " Comment(id='e97jg1e'),\n",
              " Comment(id='e97pa72'),\n",
              " Comment(id='e97jih7'),\n",
              " <MoreComments count=25, children=['e985w8z', 'e9824k5', 'e97gadz', '...']>,\n",
              " Comment(id='e974hbi'),\n",
              " Comment(id='e97532p'),\n",
              " Comment(id='e9791ly'),\n",
              " <MoreComments count=20, children=['e97awgy', 'e97amyt', 'e97ac2y', '...']>,\n",
              " Comment(id='e977cwo'),\n",
              " Comment(id='e97clcp'),\n",
              " <MoreComments count=8, children=['e9793zr', 'e98ahak', 'e97apdh', '...']>,\n",
              " Comment(id='e97at20'),\n",
              " Comment(id='e97b8un'),\n",
              " Comment(id='e978zal'),\n",
              " <MoreComments count=1, children=['e986m82']>,\n",
              " Comment(id='e9773p4'),\n",
              " Comment(id='e978nyc'),\n",
              " <MoreComments count=1, children=['e978peo']>,\n",
              " <MoreComments count=5, children=['e97neb4', 'e978y4a', 'e97rbo3']>,\n",
              " <MoreComments count=11, children=['e97potg', 'e976uyb', 'e97pndw', 'e9771ly']>,\n",
              " <MoreComments count=3, children=['e97drrc', 'e974lyx', 'e984hfq']>,\n",
              " Comment(id='e976krf'),\n",
              " Comment(id='e97dvca'),\n",
              " <MoreComments count=2, children=['e97cklq']>,\n",
              " Comment(id='e97927n'),\n",
              " Comment(id='e97b8q0'),\n",
              " Comment(id='e978lxz'),\n",
              " Comment(id='e97ap7h'),\n",
              " Comment(id='e97epme'),\n",
              " <MoreComments count=11, children=['e97ufq9', 'e97uy4j', 'e97iz8q', '...']>,\n",
              " Comment(id='e97c8bn'),\n",
              " Comment(id='e97a9sj'),\n",
              " Comment(id='e97n6pu'),\n",
              " <MoreComments count=15, children=['e97ryn4', 'e97ehgh', 'e97b9lv', '...']>,\n",
              " Comment(id='e97axpw'),\n",
              " Comment(id='e97cxze'),\n",
              " Comment(id='e97a7yh'),\n",
              " Comment(id='e97dwo9'),\n",
              " Comment(id='e97bohm'),\n",
              " <MoreComments count=6, children=['e97exi9', 'e97d5dy', 'e97j64h', '...']>,\n",
              " Comment(id='e978h5c'),\n",
              " Comment(id='e978o37'),\n",
              " <MoreComments count=1, children=['e98bl5n']>,\n",
              " Comment(id='e978ld1'),\n",
              " Comment(id='e978ica'),\n",
              " <MoreComments count=1, children=['e97nuf7']>,\n",
              " Comment(id='e978zax'),\n",
              " Comment(id='e9791c4'),\n",
              " <MoreComments count=1, children=['e97j1za']>,\n",
              " Comment(id='e978kxd'),\n",
              " <MoreComments count=2, children=['e98igt5', 'e9773i9']>,\n",
              " Comment(id='e979fgx'),\n",
              " Comment(id='e979215'),\n",
              " Comment(id='e97bvy4'),\n",
              " <MoreComments count=1, children=['e97axbp']>,\n",
              " Comment(id='e979piq'),\n",
              " Comment(id='e97j2zp'),\n",
              " <MoreComments count=1, children=['e977nnh']>,\n",
              " Comment(id='e97pu5p'),\n",
              " Comment(id='e975qkd'),\n",
              " Comment(id='e978kfh'),\n",
              " Comment(id='e977zsg'),\n",
              " Comment(id='e977ytg'),\n",
              " Comment(id='e97ahwy'),\n",
              " Comment(id='e97b4l7'),\n",
              " Comment(id='e97606d'),\n",
              " <MoreComments count=5, children=['e9827j6', 'e97acyj', 'e97gayt', '...']>,\n",
              " Comment(id='e9778d6'),\n",
              " <MoreComments count=2, children=['e97vlsp']>,\n",
              " <MoreComments count=1, children=['e97ztax']>,\n",
              " Comment(id='e979acy'),\n",
              " Comment(id='e97bmby'),\n",
              " <MoreComments count=8, children=['e97eq2w', 'e97z47v']>,\n",
              " <MoreComments count=1, children=['e97ic8b']>,\n",
              " Comment(id='e985jg5'),\n",
              " Comment(id='e975a4i'),\n",
              " Comment(id='e976g3h'),\n",
              " Comment(id='e978tem'),\n",
              " <MoreComments count=10, children=['e97cs75', 'e979oqq', 'efbsn49', '...']>,\n",
              " Comment(id='e97recv'),\n",
              " <MoreComments count=1, children=['e97fkxr']>,\n",
              " Comment(id='e97vwf9'),\n",
              " <MoreComments count=10, children=['e97e7zw', 'e978hnp']>,\n",
              " Comment(id='e97692u'),\n",
              " Comment(id='e975a6o'),\n",
              " Comment(id='e978g2l'),\n",
              " Comment(id='e978tk8'),\n",
              " <MoreComments count=3, children=['e978wq1', 'e980u7e', 'e97rlwr']>,\n",
              " <MoreComments count=2, children=['e988nod', 'e9764if']>,\n",
              " Comment(id='e978jyc'),\n",
              " <MoreComments count=1, children=['e979q9l']>,\n",
              " <MoreComments count=1, children=['e97mdxn']>,\n",
              " Comment(id='e97tnwl'),\n",
              " <MoreComments count=1, children=['e97yyr1']>,\n",
              " <MoreComments count=1, children=['e974e16']>,\n",
              " Comment(id='e97g223'),\n",
              " Comment(id='e980adu'),\n",
              " Comment(id='e979ynh'),\n",
              " Comment(id='e9799y0'),\n",
              " Comment(id='e9793eo'),\n",
              " <MoreComments count=1, children=['e97bvzb']>,\n",
              " <MoreComments count=1, children=['e97eo3n']>,\n",
              " <MoreComments count=1, children=['e97vfrr']>,\n",
              " Comment(id='e975gua'),\n",
              " <MoreComments count=2, children=['e97b65d', 'e975ip9']>,\n",
              " Comment(id='e97dole'),\n",
              " Comment(id='e97mh3w'),\n",
              " <MoreComments count=1, children=['e97ilar']>,\n",
              " <MoreComments count=6, children=['e97gfg1', 'e97hii3']>,\n",
              " <MoreComments count=1, children=['e97dof0']>,\n",
              " <MoreComments count=2, children=['e981olh', 'e981206']>,\n",
              " <MoreComments count=1, children=['e979lpm']>,\n",
              " <MoreComments count=1, children=['e97e136']>,\n",
              " Comment(id='e97gcyz'),\n",
              " Comment(id='e97hezd'),\n",
              " Comment(id='e97rgoy'),\n",
              " Comment(id='e97g1fz'),\n",
              " Comment(id='e97lwdk'),\n",
              " <MoreComments count=7, children=['e9l5lhg', 'e97qs4l', 'e97tmzz', '...']>,\n",
              " Comment(id='e97qbtt'),\n",
              " <MoreComments count=7, children=['e98c5qx', 'e981bmr', 'e97kihg']>,\n",
              " Comment(id='e97gctq'),\n",
              " <MoreComments count=1, children=['e97hquy']>,\n",
              " Comment(id='e980kqq'),\n",
              " <MoreComments count=1, children=['e9l5n45']>,\n",
              " Comment(id='e97i0cp'),\n",
              " <MoreComments count=1, children=['e98tvzs']>,\n",
              " Comment(id='e974jee'),\n",
              " Comment(id='e975arh'),\n",
              " <MoreComments count=14, children=['e97dndo', 'e982gh9', 'e979lm6', '...']>,\n",
              " Comment(id='e975xoi'),\n",
              " <MoreComments count=3, children=['e97bfk9', 'e9765ky']>,\n",
              " Comment(id='e979man'),\n",
              " <MoreComments count=7, children=['e985bx0', 'e9795h8', 'e97eldz']>,\n",
              " Comment(id='e97eiy7'),\n",
              " Comment(id='e97dso7'),\n",
              " <MoreComments count=4, children=['e97jg5m', 'e97dmmk']>,\n",
              " Comment(id='e979xwo'),\n",
              " Comment(id='e978i4b'),\n",
              " Comment(id='e97a6z5'),\n",
              " <MoreComments count=7, children=['e97v9ul', 'e97sijs', 'e97b18v', '...']>,\n",
              " <MoreComments count=4, children=['e979cvv', 'e97ajzf', 'e97iinr']>,\n",
              " Comment(id='e97aguh'),\n",
              " Comment(id='e97ep8w'),\n",
              " <MoreComments count=7, children=['e9849kb', 'e97l0gc', 'e9879f4', '...']>,\n",
              " <MoreComments count=1, children=['e98el4l']>,\n",
              " Comment(id='e978rne'),\n",
              " Comment(id='e9791zn'),\n",
              " <MoreComments count=26, children=['e978x9c', 'e978zb5', 'e97wltw', '...']>,\n",
              " Comment(id='e97cnnw'),\n",
              " Comment(id='e97efzd'),\n",
              " Comment(id='e97vwx8'),\n",
              " Comment(id='e97unsq'),\n",
              " Comment(id='e97rseo'),\n",
              " Comment(id='e97uzhm'),\n",
              " <MoreComments count=8, children=['e97jxog', 'e98bh9v', 'e985o4x', '...']>,\n",
              " Comment(id='e97gycs'),\n",
              " Comment(id='e97fpuj'),\n",
              " <MoreComments count=1, children=['e97uf3y']>,\n",
              " Comment(id='e97euj7'),\n",
              " Comment(id='e97gk3v'),\n",
              " Comment(id='e97bkge'),\n",
              " Comment(id='e97bq9o'),\n",
              " <MoreComments count=13, children=['e980dar', 'e97bjst']>,\n",
              " Comment(id='e97s3o5'),\n",
              " Comment(id='e97hkqj'),\n",
              " <MoreComments count=3, children=['e97gl3s', 'e97njbu', 'e97otrm']>,\n",
              " Comment(id='e97drzb'),\n",
              " Comment(id='e978kia'),\n",
              " Comment(id='e97h16m'),\n",
              " <MoreComments count=5, children=['e97b2kz', 'e97a2vy']>,\n",
              " Comment(id='e97d28t'),\n",
              " Comment(id='e9796be'),\n",
              " Comment(id='e979y39'),\n",
              " Comment(id='e97c8bx'),\n",
              " <MoreComments count=8, children=['e9796f4', 'e97g5d8', 'e97chnq']>,\n",
              " Comment(id='e979c37'),\n",
              " <MoreComments count=1, children=['e979avx']>,\n",
              " Comment(id='e97mzfc'),\n",
              " <MoreComments count=1, children=['e97c56h']>,\n",
              " <MoreComments count=2, children=['e97erft', 'e97cghf']>,\n",
              " Comment(id='e97bnzj'),\n",
              " <MoreComments count=1, children=['e97yxvj']>,\n",
              " <MoreComments count=1, children=['e97zyrq']>,\n",
              " Comment(id='e977rz9'),\n",
              " Comment(id='e9776iy'),\n",
              " <MoreComments count=1, children=['e97t7nl']>,\n",
              " <MoreComments count=1, children=['e9bum6v']>,\n",
              " <MoreComments count=1, children=['e97sd8p']>,\n",
              " Comment(id='e97e3fq'),\n",
              " Comment(id='e977iuf'),\n",
              " Comment(id='e977fuu'),\n",
              " Comment(id='e97828f'),\n",
              " Comment(id='e978q4a'),\n",
              " <MoreComments count=6, children=['e97a1og', 'e97qmoq', 'e97er0c', 'e97alqf']>,\n",
              " Comment(id='e97cm8i'),\n",
              " Comment(id='e97g7vm'),\n",
              " <MoreComments count=5, children=['e97f790']>,\n",
              " Comment(id='e978hpf'),\n",
              " Comment(id='e975fat'),\n",
              " Comment(id='e979qa8'),\n",
              " Comment(id='e97a0rb'),\n",
              " <MoreComments count=2, children=['e97qg76', 'e979oxo']>,\n",
              " <MoreComments count=2, children=['e97n6d4']>,\n",
              " Comment(id='e97aovk'),\n",
              " <MoreComments count=18, children=['e979h2y']>,\n",
              " Comment(id='e9768n5'),\n",
              " <MoreComments count=4, children=['e978iu9', 'e97aden']>,\n",
              " Comment(id='e97lt0z'),\n",
              " Comment(id='e97pz2c'),\n",
              " <MoreComments count=7, children=['ehs31tc', 'e9bwz8n', 'e989bos', '...']>,\n",
              " Comment(id='e97jd78'),\n",
              " Comment(id='e97jlo6'),\n",
              " Comment(id='e97kluh'),\n",
              " <MoreComments count=1, children=['e97kwcy']>,\n",
              " <MoreComments count=5, children=['e97jb3j']>,\n",
              " Comment(id='e974qfp'),\n",
              " Comment(id='e97674e'),\n",
              " Comment(id='e9764f7'),\n",
              " <MoreComments count=14, children=['e97970k', 'e9770h2', 'e97hshd', '...']>,\n",
              " Comment(id='e975y8c'),\n",
              " Comment(id='e97bf1t'),\n",
              " <MoreComments count=2, children=['e9766a0']>,\n",
              " Comment(id='e97asdq'),\n",
              " Comment(id='e97c4jz'),\n",
              " <MoreComments count=9, children=['e97h3dz']>,\n",
              " <MoreComments count=1, children=['e97h6zf']>,\n",
              " Comment(id='e97akjg'),\n",
              " <MoreComments count=9, children=['e98e9pv', 'e979uec']>,\n",
              " Comment(id='e97bfks'),\n",
              " Comment(id='e97awza'),\n",
              " Comment(id='e97rce9'),\n",
              " Comment(id='e97b61t'),\n",
              " Comment(id='e97lrf9'),\n",
              " Comment(id='e97xcnw'),\n",
              " <MoreComments count=15, children=['e97mwht', 'e981b2a', 'e97gmsm', '...']>,\n",
              " Comment(id='e97a42k'),\n",
              " <MoreComments count=46, children=['e97bfqo', 'e97bwwt', 'e9793av']>,\n",
              " Comment(id='e97d349'),\n",
              " <MoreComments count=2, children=['e97ffqe']>,\n",
              " Comment(id='e97s1fg'),\n",
              " Comment(id='e97mcw4'),\n",
              " Comment(id='e9851hq'),\n",
              " Comment(id='e97qgi4'),\n",
              " Comment(id='e97gldo'),\n",
              " Comment(id='e97him7'),\n",
              " Comment(id='e97de5w'),\n",
              " Comment(id='e97bqt5'),\n",
              " Comment(id='e97bzsi'),\n",
              " <MoreComments count=3, children=['e97iiwo', 'e97rjtu', 'e97c1f0']>,\n",
              " Comment(id='e97esi3'),\n",
              " <MoreComments count=1, children=['e97dmzq']>,\n",
              " Comment(id='e97ssmi'),\n",
              " Comment(id='e97eqrb'),\n",
              " <MoreComments count=6, children=['e9790k2']>,\n",
              " Comment(id='e97v1hi'),\n",
              " Comment(id='e97noxl'),\n",
              " Comment(id='e97yyc2'),\n",
              " Comment(id='e983m85'),\n",
              " Comment(id='e97d3o2'),\n",
              " Comment(id='e979a3j'),\n",
              " Comment(id='e97a9x5'),\n",
              " Comment(id='e97gteb'),\n",
              " <MoreComments count=1, children=['e97uo30']>,\n",
              " Comment(id='e978u3h'),\n",
              " Comment(id='e97c77i'),\n",
              " Comment(id='e9787wf'),\n",
              " Comment(id='e97eant'),\n",
              " Comment(id='e9785cp'),\n",
              " Comment(id='e97a9xp'),\n",
              " Comment(id='e97dl7o'),\n",
              " Comment(id='e97841n'),\n",
              " <MoreComments count=1, children=['e98c96w']>,\n",
              " Comment(id='e979082'),\n",
              " Comment(id='e97af47'),\n",
              " Comment(id='e97eopv'),\n",
              " <MoreComments count=8, children=['e98271t', 'e97efrv', 'e97yfta', 'e979exz']>,\n",
              " <MoreComments count=1, children=['e9w50r3']>,\n",
              " Comment(id='e97sosx'),\n",
              " <MoreComments count=2, children=['e97sv15', 'e97bsdf']>,\n",
              " Comment(id='e978hls'),\n",
              " <MoreComments count=2, children=['e97e31k']>,\n",
              " <MoreComments count=1, children=['e98bccy']>,\n",
              " Comment(id='e97axds'),\n",
              " <MoreComments count=1, children=['e97wezv']>,\n",
              " Comment(id='e97pu8g'),\n",
              " Comment(id='e97pp5w'),\n",
              " <MoreComments count=2, children=['e988hcj']>,\n",
              " Comment(id='e97k8bf'),\n",
              " Comment(id='e97kzkg'),\n",
              " <MoreComments count=4, children=['e97mpjn', 'e988ndp']>,\n",
              " <MoreComments count=1, children=['e9817hs']>,\n",
              " Comment(id='e976kj9'),\n",
              " <MoreComments count=1, children=['e97bz9a']>,\n",
              " Comment(id='e9780i6'),\n",
              " <MoreComments count=1, children=['e97iefq']>,\n",
              " Comment(id='e976hyg'),\n",
              " <MoreComments count=4, children=['e97aj09', 'e976rnq']>,\n",
              " Comment(id='e976f0n'),\n",
              " Comment(id='e97azvx'),\n",
              " Comment(id='e97cctm'),\n",
              " Comment(id='e97dc4g'),\n",
              " Comment(id='e97mil8'),\n",
              " Comment(id='e97gium'),\n",
              " Comment(id='e97oshb'),\n",
              " Comment(id='e97f093'),\n",
              " Comment(id='e97vqb1'),\n",
              " <MoreComments count=8, children=['e98biwa', 'e98v7fy', 'e97tvay', '...']>,\n",
              " Comment(id='e97blaz'),\n",
              " Comment(id='e97bcd5'),\n",
              " <MoreComments count=6, children=['e97bkq0', 'e97bbii', 'e97eg4y', 'e97dkhp']>,\n",
              " Comment(id='e97eyws'),\n",
              " Comment(id='e97g36x'),\n",
              " Comment(id='e97guah'),\n",
              " <MoreComments count=1, children=['e988rlm']>,\n",
              " Comment(id='e97x97d'),\n",
              " <MoreComments count=1, children=['e98bkbv']>,\n",
              " Comment(id='e97rlvz'),\n",
              " Comment(id='e986ts1'),\n",
              " <MoreComments count=1, children=['e98cczv']>,\n",
              " <MoreComments count=1, children=['e9871mv']>,\n",
              " Comment(id='e97g6hh'),\n",
              " Comment(id='e97efk9'),\n",
              " Comment(id='e97dkau'),\n",
              " <MoreComments count=9, children=['e985605', 'e97g5n0', 'e97ddw0', '...']>,\n",
              " Comment(id='e97dbl9'),\n",
              " <MoreComments count=2, children=['e97fssy']>,\n",
              " Comment(id='e98kgtk'),\n",
              " <MoreComments count=1, children=['e987vev']>,\n",
              " Comment(id='e983gxz'),\n",
              " Comment(id='e97dut2'),\n",
              " Comment(id='e97af4v'),\n",
              " <MoreComments count=2, children=['e97atc9', 'e97i5jx']>,\n",
              " Comment(id='e97e38n'),\n",
              " Comment(id='e985sep'),\n",
              " Comment(id='e978kox'),\n",
              " <MoreComments count=1, children=['e97dyje']>,\n",
              " Comment(id='e97dttn'),\n",
              " Comment(id='e97894f'),\n",
              " <MoreComments count=1, children=['e97ov70']>,\n",
              " Comment(id='e979gfj'),\n",
              " Comment(id='e97eodh'),\n",
              " Comment(id='e9878gc'),\n",
              " Comment(id='e97t2i4'),\n",
              " Comment(id='e97kt1v'),\n",
              " Comment(id='e9826nb'),\n",
              " <MoreComments count=1, children=['e97l1qg']>,\n",
              " <MoreComments count=3, children=['e97pgr5', 'e97rvs2', 'e97m2au']>,\n",
              " Comment(id='e976q2g'),\n",
              " Comment(id='e977uyl'),\n",
              " Comment(id='e9773mw'),\n",
              " Comment(id='e97ba4y'),\n",
              " Comment(id='e9786am'),\n",
              " <MoreComments count=15, children=['e978hxc', 'e9799gh', 'e979edg', '...']>,\n",
              " <MoreComments count=1, children=['e97ct2p']>,\n",
              " Comment(id='e977nga'),\n",
              " Comment(id='e977ndk'),\n",
              " <MoreComments count=2, children=['e97alv6']>,\n",
              " Comment(id='e976oxq'),\n",
              " Comment(id='e97c9ow'),\n",
              " <MoreComments count=1, children=['e97k233']>,\n",
              " Comment(id='e97h2hl'),\n",
              " <MoreComments count=3, children=['e9a1lft', 'e983jjy', 'e97gqau']>,\n",
              " Comment(id='e9837am'),\n",
              " <MoreComments count=2, children=['e9855pc', 'e985l6j']>,\n",
              " Comment(id='e97iefb'),\n",
              " Comment(id='e97h09r'),\n",
              " Comment(id='e97d07i'),\n",
              " <MoreComments count=6, children=['e97e3ev', 'e97db3c', 'e97x7ak', '...']>,\n",
              " Comment(id='e97bolb'),\n",
              " <MoreComments count=2, children=['e9864am']>,\n",
              " Comment(id='e97s0ah'),\n",
              " <MoreComments count=2, children=['e97s0xb']>,\n",
              " <MoreComments count=3, children=['e985sv0', 'e97n7kk']>,\n",
              " <MoreComments count=1, children=['e985qso']>,\n",
              " Comment(id='e97fr2m'),\n",
              " Comment(id='e97b0on'),\n",
              " Comment(id='e97c1i5'),\n",
              " <MoreComments count=1, children=['e9kn3ra']>,\n",
              " Comment(id='e978pl0'),\n",
              " Comment(id='e97c52j'),\n",
              " Comment(id='e97biwt'),\n",
              " <MoreComments count=1, children=['e982bru']>,\n",
              " Comment(id='e989mcg'),\n",
              " Comment(id='e99pk75'),\n",
              " <MoreComments count=2, children=['eaqqry0', 'e98ab42']>,\n",
              " Comment(id='e977r32'),\n",
              " Comment(id='e9781lg'),\n",
              " <MoreComments count=6, children=['e97hi6a', 'e979q3n', 'e979jn6', '...']>,\n",
              " Comment(id='e978o9h'),\n",
              " <MoreComments count=3, children=['e97jbsq', 'e97wtgk', 'e97etcm']>,\n",
              " Comment(id='e978gs8'),\n",
              " <MoreComments count=2, children=['e97l6dj']>,\n",
              " <MoreComments count=2, children=['e97b2dk', 'e979jcp']>,\n",
              " <MoreComments count=1, children=['e976z5r']>,\n",
              " Comment(id='e97cly2'),\n",
              " Comment(id='e97h9fv'),\n",
              " Comment(id='e97lbto'),\n",
              " Comment(id='e97y3y8'),\n",
              " <MoreComments count=6, children=['e97o7u8', 'e98d9f6', 'e98wg9f', '...']>,\n",
              " <MoreComments count=2, children=['e97hoip', 'e97yz9l']>,\n",
              " Comment(id='e97jy9y'),\n",
              " <MoreComments count=21, children=['e97kzhc', 'e97d8te', 'e984aw7']>,\n",
              " Comment(id='e97d1ux'),\n",
              " <MoreComments count=1, children=['e97cioc']>,\n",
              " Comment(id='e97t7br'),\n",
              " <MoreComments count=1, children=['e98b2nu']>,\n",
              " Comment(id='e97ibck'),\n",
              " <MoreComments count=3, children=['e98nlod']>,\n",
              " Comment(id='e97bus3'),\n",
              " <MoreComments count=1, children=['e97etld']>,\n",
              " Comment(id='e97eto9'),\n",
              " Comment(id='e979ofe'),\n",
              " Comment(id='e979p0t'),\n",
              " Comment(id='e979ibg'),\n",
              " <MoreComments count=8, children=['e97lkg0', 'e97gsdf', 'e979d0o', '...']>,\n",
              " Comment(id='e978uvo'),\n",
              " Comment(id='e97d7cn'),\n",
              " Comment(id='e97y0um'),\n",
              " Comment(id='e97xncg'),\n",
              " Comment(id='e97zo41'),\n",
              " Comment(id='e97hmyr'),\n",
              " <MoreComments count=4, children=['e98gzlt', 'e97oj1g', 'e98cyyd', 'e98hjd2']>,\n",
              " <MoreComments count=2, children=['e97q42x', 'e988td1']>,\n",
              " Comment(id='e97d86k'),\n",
              " <MoreComments count=1, children=['e97emqd']>,\n",
              " <MoreComments count=1, children=['e97p2fg']>,\n",
              " Comment(id='e97dc1z'),\n",
              " <MoreComments count=5, children=['e97im8n']>,\n",
              " Comment(id='e97bt8o'),\n",
              " Comment(id='e979va7'),\n",
              " <MoreComments count=2, children=['e97aoey', 'e97hyfp']>,\n",
              " <MoreComments count=8, children=['e97gfab', 'e97a8qb', 'e979s5z', '...']>,\n",
              " Comment(id='e97a0fc'),\n",
              " Comment(id='e979h2c'),\n",
              " Comment(id='e979zd2'),\n",
              " Comment(id='e979crv'),\n",
              " Comment(id='e97af3m'),\n",
              " Comment(id='e97b57f'),\n",
              " Comment(id='e979r7l'),\n",
              " <MoreComments count=1, children=['e97cq13']>,\n",
              " Comment(id='e97dcne'),\n",
              " Comment(id='e980kjf'),\n",
              " <MoreComments count=1, children=['e97ocrl']>,\n",
              " Comment(id='e97eqf4'),\n",
              " <MoreComments count=10, children=['e97l100', 'e984jtd', 'e97wzk5', 'e97pkjz']>,\n",
              " <MoreComments count=0, children=[]>,\n",
              " <MoreComments count=0, children=[]>,\n",
              " <MoreComments count=0, children=[]>,\n",
              " <MoreComments count=0, children=[]>,\n",
              " <MoreComments count=0, children=[]>,\n",
              " <MoreComments count=0, children=[]>]"
            ]
          },
          "metadata": {
            "tags": []
          },
          "execution_count": 23
        }
      ]
    },
    {
      "metadata": {
        "id": "HHJvf9KMfmpE",
        "colab_type": "code",
        "outputId": "d9354b93-1215-484e-f589-615757c0e664",
        "colab": {
          "base_uri": "https://localhost:8080/"
        }
      },
      "cell_type": "code",
      "source": [
        "top_submissions"
      ],
      "execution_count": 24,
      "outputs": [
        {
          "output_type": "execute_result",
          "data": {
            "text/html": [
              "<div>\n",
              "<style scoped>\n",
              "    .dataframe tbody tr th:only-of-type {\n",
              "        vertical-align: middle;\n",
              "    }\n",
              "\n",
              "    .dataframe tbody tr th {\n",
              "        vertical-align: top;\n",
              "    }\n",
              "\n",
              "    .dataframe thead th {\n",
              "        text-align: right;\n",
              "    }\n",
              "</style>\n",
              "<table border=\"1\" class=\"dataframe\">\n",
              "  <thead>\n",
              "    <tr style=\"text-align: right;\">\n",
              "      <th></th>\n",
              "      <th>comms_num</th>\n",
              "      <th>created</th>\n",
              "      <th>id</th>\n",
              "      <th>score</th>\n",
              "      <th>subreddit</th>\n",
              "      <th>title</th>\n",
              "    </tr>\n",
              "  </thead>\n",
              "  <tbody>\n",
              "    <tr>\n",
              "      <th>0</th>\n",
              "      <td>2773</td>\n",
              "      <td>1.541553e+09</td>\n",
              "      <td>9uuhl3</td>\n",
              "      <td>101787</td>\n",
              "      <td>politics</td>\n",
              "      <td>Kim Davis, clerk who refused to sign marriage ...</td>\n",
              "    </tr>\n",
              "    <tr>\n",
              "      <th>1</th>\n",
              "      <td>20873</td>\n",
              "      <td>1.494882e+09</td>\n",
              "      <td>6bd42j</td>\n",
              "      <td>99346</td>\n",
              "      <td>politics</td>\n",
              "      <td>Trump revealed highly classified information t...</td>\n",
              "    </tr>\n",
              "    <tr>\n",
              "      <th>2</th>\n",
              "      <td>14556</td>\n",
              "      <td>1.516929e+09</td>\n",
              "      <td>7t12e6</td>\n",
              "      <td>95200</td>\n",
              "      <td>politics</td>\n",
              "      <td>Trump Ordered Mueller Fired, but Backed Off Wh...</td>\n",
              "    </tr>\n",
              "    <tr>\n",
              "      <th>3</th>\n",
              "      <td>6543</td>\n",
              "      <td>1.542671e+09</td>\n",
              "      <td>9ymbzc</td>\n",
              "      <td>89716</td>\n",
              "      <td>politics</td>\n",
              "      <td>Ivanka Trump used a personal email account to ...</td>\n",
              "    </tr>\n",
              "    <tr>\n",
              "      <th>4</th>\n",
              "      <td>1947</td>\n",
              "      <td>1.511730e+09</td>\n",
              "      <td>7fpqwf</td>\n",
              "      <td>88283</td>\n",
              "      <td>politics</td>\n",
              "      <td>A petition calling for FCC Chairman Ajit Pai t...</td>\n",
              "    </tr>\n",
              "    <tr>\n",
              "      <th>5</th>\n",
              "      <td>8013</td>\n",
              "      <td>1.547256e+09</td>\n",
              "      <td>af2foq</td>\n",
              "      <td>87648</td>\n",
              "      <td>politics</td>\n",
              "      <td>F.B.I. Opened Inquiry Into Whether Trump Was S...</td>\n",
              "    </tr>\n",
              "    <tr>\n",
              "      <th>6</th>\n",
              "      <td>1718</td>\n",
              "      <td>1.511294e+09</td>\n",
              "      <td>7ekkmo</td>\n",
              "      <td>87635</td>\n",
              "      <td>politics</td>\n",
              "      <td>The FCC’s craven net neutrality vote announcem...</td>\n",
              "    </tr>\n",
              "    <tr>\n",
              "      <th>7</th>\n",
              "      <td>7573</td>\n",
              "      <td>1.547570e+09</td>\n",
              "      <td>agabcf</td>\n",
              "      <td>85138</td>\n",
              "      <td>politics</td>\n",
              "      <td>McConnell blocks House bill to reopen governme...</td>\n",
              "    </tr>\n",
              "    <tr>\n",
              "      <th>8</th>\n",
              "      <td>30086</td>\n",
              "      <td>1.547784e+09</td>\n",
              "      <td>ah6gxc</td>\n",
              "      <td>84332</td>\n",
              "      <td>politics</td>\n",
              "      <td>Megathread: President Trump Directed His Attor...</td>\n",
              "    </tr>\n",
              "    <tr>\n",
              "      <th>9</th>\n",
              "      <td>2275</td>\n",
              "      <td>1.549487e+09</td>\n",
              "      <td>anvgkw</td>\n",
              "      <td>84245</td>\n",
              "      <td>politics</td>\n",
              "      <td>Ohio city to stop observing Columbus Day, make...</td>\n",
              "    </tr>\n",
              "    <tr>\n",
              "      <th>10</th>\n",
              "      <td>4068</td>\n",
              "      <td>1.545507e+09</td>\n",
              "      <td>a8nmov</td>\n",
              "      <td>83302</td>\n",
              "      <td>politics</td>\n",
              "      <td>Alexandria Ocasio-Cortez Says Lawmakers Should...</td>\n",
              "    </tr>\n",
              "    <tr>\n",
              "      <th>11</th>\n",
              "      <td>8344</td>\n",
              "      <td>1.541638e+09</td>\n",
              "      <td>9v57rh</td>\n",
              "      <td>82848</td>\n",
              "      <td>politics</td>\n",
              "      <td>'A Red Line Crossed': Nationwide Protests Decl...</td>\n",
              "    </tr>\n",
              "    <tr>\n",
              "      <th>12</th>\n",
              "      <td>5763</td>\n",
              "      <td>1.511281e+09</td>\n",
              "      <td>7eizpg</td>\n",
              "      <td>81980</td>\n",
              "      <td>politics</td>\n",
              "      <td>The FCC has unveiled its plan to repeal its ne...</td>\n",
              "    </tr>\n",
              "    <tr>\n",
              "      <th>13</th>\n",
              "      <td>2357</td>\n",
              "      <td>1.490828e+09</td>\n",
              "      <td>62a3kj</td>\n",
              "      <td>80383</td>\n",
              "      <td>politics</td>\n",
              "      <td>‘Cards Against Humanity’ Creator Just Pledged ...</td>\n",
              "    </tr>\n",
              "    <tr>\n",
              "      <th>14</th>\n",
              "      <td>3824</td>\n",
              "      <td>1.552179e+09</td>\n",
              "      <td>azad2b</td>\n",
              "      <td>80204</td>\n",
              "      <td>politics</td>\n",
              "      <td>Resurfaced Video Shows Bernie Sanders Criticiz...</td>\n",
              "    </tr>\n",
              "    <tr>\n",
              "      <th>15</th>\n",
              "      <td>4137</td>\n",
              "      <td>1.526500e+09</td>\n",
              "      <td>8jxxn4</td>\n",
              "      <td>78529</td>\n",
              "      <td>politics</td>\n",
              "      <td>Senate Passes Bill to Save Net Neutrality</td>\n",
              "    </tr>\n",
              "    <tr>\n",
              "      <th>16</th>\n",
              "      <td>12971</td>\n",
              "      <td>1.487964e+09</td>\n",
              "      <td>5vzfba</td>\n",
              "      <td>78012</td>\n",
              "      <td>politics</td>\n",
              "      <td>CNN and other news organizations were blocked ...</td>\n",
              "    </tr>\n",
              "    <tr>\n",
              "      <th>17</th>\n",
              "      <td>5613</td>\n",
              "      <td>1.540768e+09</td>\n",
              "      <td>9s7qss</td>\n",
              "      <td>76954</td>\n",
              "      <td>politics</td>\n",
              "      <td>Jewish leaders tell Trump he's not welcome in ...</td>\n",
              "    </tr>\n",
              "    <tr>\n",
              "      <th>18</th>\n",
              "      <td>8778</td>\n",
              "      <td>1.484934e+09</td>\n",
              "      <td>5p5civ</td>\n",
              "      <td>76802</td>\n",
              "      <td>politics</td>\n",
              "      <td>All References to Climate Change Have Been Del...</td>\n",
              "    </tr>\n",
              "    <tr>\n",
              "      <th>19</th>\n",
              "      <td>3862</td>\n",
              "      <td>1.552576e+09</td>\n",
              "      <td>b11g3m</td>\n",
              "      <td>75622</td>\n",
              "      <td>politics</td>\n",
              "      <td>House votes 420-0 to make Mueller's report public</td>\n",
              "    </tr>\n",
              "    <tr>\n",
              "      <th>20</th>\n",
              "      <td>3273</td>\n",
              "      <td>1.541525e+09</td>\n",
              "      <td>9uq8jc</td>\n",
              "      <td>73842</td>\n",
              "      <td>politics</td>\n",
              "      <td>Majority says Election Day should be a federal...</td>\n",
              "    </tr>\n",
              "    <tr>\n",
              "      <th>21</th>\n",
              "      <td>3771</td>\n",
              "      <td>1.540591e+09</td>\n",
              "      <td>9rp138</td>\n",
              "      <td>73830</td>\n",
              "      <td>politics</td>\n",
              "      <td>Obama: If Republicans really cared about Clint...</td>\n",
              "    </tr>\n",
              "    <tr>\n",
              "      <th>22</th>\n",
              "      <td>1690</td>\n",
              "      <td>1.512839e+09</td>\n",
              "      <td>7inuet</td>\n",
              "      <td>73456</td>\n",
              "      <td>politics</td>\n",
              "      <td>Maloney Introduces Legislation to Save the Ope...</td>\n",
              "    </tr>\n",
              "    <tr>\n",
              "      <th>23</th>\n",
              "      <td>6341</td>\n",
              "      <td>1.510700e+09</td>\n",
              "      <td>7czjz5</td>\n",
              "      <td>73178</td>\n",
              "      <td>politics</td>\n",
              "      <td>Cards Against Humanity buys plot of land on U....</td>\n",
              "    </tr>\n",
              "    <tr>\n",
              "      <th>24</th>\n",
              "      <td>5295</td>\n",
              "      <td>1.544223e+09</td>\n",
              "      <td>a45167</td>\n",
              "      <td>71704</td>\n",
              "      <td>politics</td>\n",
              "      <td>Federal Prosecutors ‘Concluded that President ...</td>\n",
              "    </tr>\n",
              "    <tr>\n",
              "      <th>25</th>\n",
              "      <td>7506</td>\n",
              "      <td>1.521136e+09</td>\n",
              "      <td>84oem1</td>\n",
              "      <td>71590</td>\n",
              "      <td>politics</td>\n",
              "      <td>Mueller Subpoenas Trump Organization, Demandin...</td>\n",
              "    </tr>\n",
              "    <tr>\n",
              "      <th>26</th>\n",
              "      <td>2374</td>\n",
              "      <td>1.515436e+09</td>\n",
              "      <td>7p0ge0</td>\n",
              "      <td>71091</td>\n",
              "      <td>politics</td>\n",
              "      <td>Senate bill to reverse net neutrality repeal g...</td>\n",
              "    </tr>\n",
              "    <tr>\n",
              "      <th>27</th>\n",
              "      <td>5220</td>\n",
              "      <td>1.507653e+09</td>\n",
              "      <td>75i7c2</td>\n",
              "      <td>70818</td>\n",
              "      <td>politics</td>\n",
              "      <td>Mensa offers to host IQ test for Trump and Til...</td>\n",
              "    </tr>\n",
              "    <tr>\n",
              "      <th>28</th>\n",
              "      <td>5854</td>\n",
              "      <td>1.546569e+09</td>\n",
              "      <td>acdf42</td>\n",
              "      <td>69283</td>\n",
              "      <td>politics</td>\n",
              "      <td>Dem introduces bills to eliminate electoral co...</td>\n",
              "    </tr>\n",
              "    <tr>\n",
              "      <th>29</th>\n",
              "      <td>14028</td>\n",
              "      <td>1.494970e+09</td>\n",
              "      <td>6bkcss</td>\n",
              "      <td>68996</td>\n",
              "      <td>politics</td>\n",
              "      <td>Comey Memo Says Trump Asked Him to End Flynn I...</td>\n",
              "    </tr>\n",
              "    <tr>\n",
              "      <th>...</th>\n",
              "      <td>...</td>\n",
              "      <td>...</td>\n",
              "      <td>...</td>\n",
              "      <td>...</td>\n",
              "      <td>...</td>\n",
              "      <td>...</td>\n",
              "    </tr>\n",
              "    <tr>\n",
              "      <th>170</th>\n",
              "      <td>665</td>\n",
              "      <td>1.506966e+09</td>\n",
              "      <td>73ucht</td>\n",
              "      <td>18526</td>\n",
              "      <td>conspiracy</td>\n",
              "      <td>Saudi Arabia is mass murdering its Shia popula...</td>\n",
              "    </tr>\n",
              "    <tr>\n",
              "      <th>171</th>\n",
              "      <td>1685</td>\n",
              "      <td>1.453957e+09</td>\n",
              "      <td>431s3o</td>\n",
              "      <td>18333</td>\n",
              "      <td>conspiracy</td>\n",
              "      <td>Man found stabbed inside his burning home in F...</td>\n",
              "    </tr>\n",
              "    <tr>\n",
              "      <th>172</th>\n",
              "      <td>1171</td>\n",
              "      <td>1.507396e+09</td>\n",
              "      <td>74w2sy</td>\n",
              "      <td>18240</td>\n",
              "      <td>conspiracy</td>\n",
              "      <td>You can't deny that YouTube is Propaganda now</td>\n",
              "    </tr>\n",
              "    <tr>\n",
              "      <th>173</th>\n",
              "      <td>815</td>\n",
              "      <td>1.515175e+09</td>\n",
              "      <td>7ocvot</td>\n",
              "      <td>18224</td>\n",
              "      <td>conspiracy</td>\n",
              "      <td>Here is how Colorado is spending it's Cannabis...</td>\n",
              "    </tr>\n",
              "    <tr>\n",
              "      <th>174</th>\n",
              "      <td>572</td>\n",
              "      <td>1.433962e+09</td>\n",
              "      <td>39bx63</td>\n",
              "      <td>17929</td>\n",
              "      <td>conspiracy</td>\n",
              "      <td>In light of the banning of /r/fatpeoplehate, I...</td>\n",
              "    </tr>\n",
              "    <tr>\n",
              "      <th>175</th>\n",
              "      <td>759</td>\n",
              "      <td>1.480856e+09</td>\n",
              "      <td>5gfbf3</td>\n",
              "      <td>17181</td>\n",
              "      <td>conspiracy</td>\n",
              "      <td>ABC News Caught Faking w/Crime Scene Tape</td>\n",
              "    </tr>\n",
              "    <tr>\n",
              "      <th>176</th>\n",
              "      <td>1511</td>\n",
              "      <td>1.513273e+09</td>\n",
              "      <td>7jt522</td>\n",
              "      <td>17075</td>\n",
              "      <td>conspiracy</td>\n",
              "      <td>FCC literally LAUGHING at the millions of comm...</td>\n",
              "    </tr>\n",
              "    <tr>\n",
              "      <th>177</th>\n",
              "      <td>346</td>\n",
              "      <td>1.433981e+09</td>\n",
              "      <td>39d8be</td>\n",
              "      <td>17046</td>\n",
              "      <td>conspiracy</td>\n",
              "      <td>This one keeps getting removed from other subs</td>\n",
              "    </tr>\n",
              "    <tr>\n",
              "      <th>178</th>\n",
              "      <td>881</td>\n",
              "      <td>1.513346e+09</td>\n",
              "      <td>7jzty8</td>\n",
              "      <td>16890</td>\n",
              "      <td>conspiracy</td>\n",
              "      <td>FCC has been using dead peoples accounts to sh...</td>\n",
              "    </tr>\n",
              "    <tr>\n",
              "      <th>179</th>\n",
              "      <td>866</td>\n",
              "      <td>1.470233e+09</td>\n",
              "      <td>4vyni1</td>\n",
              "      <td>16772</td>\n",
              "      <td>conspiracy</td>\n",
              "      <td>We're reaching 1984 levels of deception in the...</td>\n",
              "    </tr>\n",
              "    <tr>\n",
              "      <th>180</th>\n",
              "      <td>2462</td>\n",
              "      <td>1.490758e+09</td>\n",
              "      <td>6248nr</td>\n",
              "      <td>16755</td>\n",
              "      <td>conspiracy</td>\n",
              "      <td>Dear Trump: the bill is now on your desk. Veto...</td>\n",
              "    </tr>\n",
              "    <tr>\n",
              "      <th>181</th>\n",
              "      <td>1680</td>\n",
              "      <td>1.512222e+09</td>\n",
              "      <td>7h2n7h</td>\n",
              "      <td>16643</td>\n",
              "      <td>conspiracy</td>\n",
              "      <td>Senator Jon Tester: I was just handed a 479-pa...</td>\n",
              "    </tr>\n",
              "    <tr>\n",
              "      <th>182</th>\n",
              "      <td>695</td>\n",
              "      <td>1.491224e+09</td>\n",
              "      <td>636lu0</td>\n",
              "      <td>16446</td>\n",
              "      <td>conspiracy</td>\n",
              "      <td>TIL The Susan G. Komen (Pink Ribbon/Breast Can...</td>\n",
              "    </tr>\n",
              "    <tr>\n",
              "      <th>183</th>\n",
              "      <td>679</td>\n",
              "      <td>1.483668e+09</td>\n",
              "      <td>5mar1s</td>\n",
              "      <td>16386</td>\n",
              "      <td>conspiracy</td>\n",
              "      <td>TIL Ron Paul has his own show on Youtube \"The ...</td>\n",
              "    </tr>\n",
              "    <tr>\n",
              "      <th>184</th>\n",
              "      <td>1529</td>\n",
              "      <td>1.536928e+09</td>\n",
              "      <td>9frjnu</td>\n",
              "      <td>16252</td>\n",
              "      <td>conspiracy</td>\n",
              "      <td>Bot Support for Ted Cruz on Twitter</td>\n",
              "    </tr>\n",
              "    <tr>\n",
              "      <th>185</th>\n",
              "      <td>675</td>\n",
              "      <td>1.492643e+09</td>\n",
              "      <td>66dt4i</td>\n",
              "      <td>16047</td>\n",
              "      <td>conspiracy</td>\n",
              "      <td>After 3 weeks of protests in Venezuela, today ...</td>\n",
              "    </tr>\n",
              "    <tr>\n",
              "      <th>186</th>\n",
              "      <td>689</td>\n",
              "      <td>1.462467e+09</td>\n",
              "      <td>4i0s8o</td>\n",
              "      <td>15699</td>\n",
              "      <td>conspiracy</td>\n",
              "      <td>Nixon was impeached for deleting 8 min. of tap...</td>\n",
              "    </tr>\n",
              "    <tr>\n",
              "      <th>187</th>\n",
              "      <td>482</td>\n",
              "      <td>1.474802e+09</td>\n",
              "      <td>54ep62</td>\n",
              "      <td>15565</td>\n",
              "      <td>conspiracy</td>\n",
              "      <td>The simple truth</td>\n",
              "    </tr>\n",
              "    <tr>\n",
              "      <th>188</th>\n",
              "      <td>857</td>\n",
              "      <td>1.469413e+09</td>\n",
              "      <td>4ugcm7</td>\n",
              "      <td>15386</td>\n",
              "      <td>conspiracy</td>\n",
              "      <td>Nixon was impeached for lying about a burgarly...</td>\n",
              "    </tr>\n",
              "    <tr>\n",
              "      <th>189</th>\n",
              "      <td>617</td>\n",
              "      <td>1.549125e+09</td>\n",
              "      <td>amfp4b</td>\n",
              "      <td>15146</td>\n",
              "      <td>conspiracy</td>\n",
              "      <td>I wonder how many people have been known to co...</td>\n",
              "    </tr>\n",
              "    <tr>\n",
              "      <th>190</th>\n",
              "      <td>1637</td>\n",
              "      <td>1.433960e+09</td>\n",
              "      <td>39bq32</td>\n",
              "      <td>15032</td>\n",
              "      <td>conspiracy</td>\n",
              "      <td>/r/fatpeoplehate has been banned</td>\n",
              "    </tr>\n",
              "    <tr>\n",
              "      <th>191</th>\n",
              "      <td>1046</td>\n",
              "      <td>1.499859e+09</td>\n",
              "      <td>6mtaz4</td>\n",
              "      <td>14933</td>\n",
              "      <td>conspiracy</td>\n",
              "      <td>This is a warning to /r/ conspiracy: The burni...</td>\n",
              "    </tr>\n",
              "    <tr>\n",
              "      <th>192</th>\n",
              "      <td>893</td>\n",
              "      <td>1.476609e+09</td>\n",
              "      <td>57qp2f</td>\n",
              "      <td>14894</td>\n",
              "      <td>conspiracy</td>\n",
              "      <td>CNN Reports Reading Wikileaks is Illegal, You ...</td>\n",
              "    </tr>\n",
              "    <tr>\n",
              "      <th>193</th>\n",
              "      <td>994</td>\n",
              "      <td>1.550791e+09</td>\n",
              "      <td>at9w0c</td>\n",
              "      <td>14877</td>\n",
              "      <td>conspiracy</td>\n",
              "      <td>Tonight Or Tomorrow A Billionaire NFL Owner Wi...</td>\n",
              "    </tr>\n",
              "    <tr>\n",
              "      <th>194</th>\n",
              "      <td>818</td>\n",
              "      <td>1.478224e+09</td>\n",
              "      <td>5b0xw8</td>\n",
              "      <td>14854</td>\n",
              "      <td>conspiracy</td>\n",
              "      <td>His name was Aaron Swartz. He helped create Re...</td>\n",
              "    </tr>\n",
              "    <tr>\n",
              "      <th>195</th>\n",
              "      <td>314</td>\n",
              "      <td>1.460719e+09</td>\n",
              "      <td>4ew8l4</td>\n",
              "      <td>14436</td>\n",
              "      <td>conspiracy</td>\n",
              "      <td>Hillary wins! Named most corrupt politician of...</td>\n",
              "    </tr>\n",
              "    <tr>\n",
              "      <th>196</th>\n",
              "      <td>1031</td>\n",
              "      <td>1.551458e+09</td>\n",
              "      <td>aw6tea</td>\n",
              "      <td>14185</td>\n",
              "      <td>conspiracy</td>\n",
              "      <td>Model Who Exposed Elite Pedophile Ring Found D...</td>\n",
              "    </tr>\n",
              "    <tr>\n",
              "      <th>197</th>\n",
              "      <td>844</td>\n",
              "      <td>1.433983e+09</td>\n",
              "      <td>39ddf1</td>\n",
              "      <td>14077</td>\n",
              "      <td>conspiracy</td>\n",
              "      <td>/r/fatpeoplehate2 has been banned</td>\n",
              "    </tr>\n",
              "    <tr>\n",
              "      <th>198</th>\n",
              "      <td>425</td>\n",
              "      <td>1.457834e+09</td>\n",
              "      <td>4a6in2</td>\n",
              "      <td>13967</td>\n",
              "      <td>conspiracy</td>\n",
              "      <td>Hillary's Memory Problem? (Or simply trying to...</td>\n",
              "    </tr>\n",
              "    <tr>\n",
              "      <th>199</th>\n",
              "      <td>525</td>\n",
              "      <td>1.475439e+09</td>\n",
              "      <td>55jywp</td>\n",
              "      <td>13906</td>\n",
              "      <td>conspiracy</td>\n",
              "      <td>Lawsuit Finds Millions Of Uncounted Bernie San...</td>\n",
              "    </tr>\n",
              "  </tbody>\n",
              "</table>\n",
              "<p>200 rows × 6 columns</p>\n",
              "</div>"
            ],
            "text/plain": [
              "     comms_num       created      id   score   subreddit  \\\n",
              "0         2773  1.541553e+09  9uuhl3  101787    politics   \n",
              "1        20873  1.494882e+09  6bd42j   99346    politics   \n",
              "2        14556  1.516929e+09  7t12e6   95200    politics   \n",
              "3         6543  1.542671e+09  9ymbzc   89716    politics   \n",
              "4         1947  1.511730e+09  7fpqwf   88283    politics   \n",
              "5         8013  1.547256e+09  af2foq   87648    politics   \n",
              "6         1718  1.511294e+09  7ekkmo   87635    politics   \n",
              "7         7573  1.547570e+09  agabcf   85138    politics   \n",
              "8        30086  1.547784e+09  ah6gxc   84332    politics   \n",
              "9         2275  1.549487e+09  anvgkw   84245    politics   \n",
              "10        4068  1.545507e+09  a8nmov   83302    politics   \n",
              "11        8344  1.541638e+09  9v57rh   82848    politics   \n",
              "12        5763  1.511281e+09  7eizpg   81980    politics   \n",
              "13        2357  1.490828e+09  62a3kj   80383    politics   \n",
              "14        3824  1.552179e+09  azad2b   80204    politics   \n",
              "15        4137  1.526500e+09  8jxxn4   78529    politics   \n",
              "16       12971  1.487964e+09  5vzfba   78012    politics   \n",
              "17        5613  1.540768e+09  9s7qss   76954    politics   \n",
              "18        8778  1.484934e+09  5p5civ   76802    politics   \n",
              "19        3862  1.552576e+09  b11g3m   75622    politics   \n",
              "20        3273  1.541525e+09  9uq8jc   73842    politics   \n",
              "21        3771  1.540591e+09  9rp138   73830    politics   \n",
              "22        1690  1.512839e+09  7inuet   73456    politics   \n",
              "23        6341  1.510700e+09  7czjz5   73178    politics   \n",
              "24        5295  1.544223e+09  a45167   71704    politics   \n",
              "25        7506  1.521136e+09  84oem1   71590    politics   \n",
              "26        2374  1.515436e+09  7p0ge0   71091    politics   \n",
              "27        5220  1.507653e+09  75i7c2   70818    politics   \n",
              "28        5854  1.546569e+09  acdf42   69283    politics   \n",
              "29       14028  1.494970e+09  6bkcss   68996    politics   \n",
              "..         ...           ...     ...     ...         ...   \n",
              "170        665  1.506966e+09  73ucht   18526  conspiracy   \n",
              "171       1685  1.453957e+09  431s3o   18333  conspiracy   \n",
              "172       1171  1.507396e+09  74w2sy   18240  conspiracy   \n",
              "173        815  1.515175e+09  7ocvot   18224  conspiracy   \n",
              "174        572  1.433962e+09  39bx63   17929  conspiracy   \n",
              "175        759  1.480856e+09  5gfbf3   17181  conspiracy   \n",
              "176       1511  1.513273e+09  7jt522   17075  conspiracy   \n",
              "177        346  1.433981e+09  39d8be   17046  conspiracy   \n",
              "178        881  1.513346e+09  7jzty8   16890  conspiracy   \n",
              "179        866  1.470233e+09  4vyni1   16772  conspiracy   \n",
              "180       2462  1.490758e+09  6248nr   16755  conspiracy   \n",
              "181       1680  1.512222e+09  7h2n7h   16643  conspiracy   \n",
              "182        695  1.491224e+09  636lu0   16446  conspiracy   \n",
              "183        679  1.483668e+09  5mar1s   16386  conspiracy   \n",
              "184       1529  1.536928e+09  9frjnu   16252  conspiracy   \n",
              "185        675  1.492643e+09  66dt4i   16047  conspiracy   \n",
              "186        689  1.462467e+09  4i0s8o   15699  conspiracy   \n",
              "187        482  1.474802e+09  54ep62   15565  conspiracy   \n",
              "188        857  1.469413e+09  4ugcm7   15386  conspiracy   \n",
              "189        617  1.549125e+09  amfp4b   15146  conspiracy   \n",
              "190       1637  1.433960e+09  39bq32   15032  conspiracy   \n",
              "191       1046  1.499859e+09  6mtaz4   14933  conspiracy   \n",
              "192        893  1.476609e+09  57qp2f   14894  conspiracy   \n",
              "193        994  1.550791e+09  at9w0c   14877  conspiracy   \n",
              "194        818  1.478224e+09  5b0xw8   14854  conspiracy   \n",
              "195        314  1.460719e+09  4ew8l4   14436  conspiracy   \n",
              "196       1031  1.551458e+09  aw6tea   14185  conspiracy   \n",
              "197        844  1.433983e+09  39ddf1   14077  conspiracy   \n",
              "198        425  1.457834e+09  4a6in2   13967  conspiracy   \n",
              "199        525  1.475439e+09  55jywp   13906  conspiracy   \n",
              "\n",
              "                                                 title  \n",
              "0    Kim Davis, clerk who refused to sign marriage ...  \n",
              "1    Trump revealed highly classified information t...  \n",
              "2    Trump Ordered Mueller Fired, but Backed Off Wh...  \n",
              "3    Ivanka Trump used a personal email account to ...  \n",
              "4    A petition calling for FCC Chairman Ajit Pai t...  \n",
              "5    F.B.I. Opened Inquiry Into Whether Trump Was S...  \n",
              "6    The FCC’s craven net neutrality vote announcem...  \n",
              "7    McConnell blocks House bill to reopen governme...  \n",
              "8    Megathread: President Trump Directed His Attor...  \n",
              "9    Ohio city to stop observing Columbus Day, make...  \n",
              "10   Alexandria Ocasio-Cortez Says Lawmakers Should...  \n",
              "11   'A Red Line Crossed': Nationwide Protests Decl...  \n",
              "12   The FCC has unveiled its plan to repeal its ne...  \n",
              "13   ‘Cards Against Humanity’ Creator Just Pledged ...  \n",
              "14   Resurfaced Video Shows Bernie Sanders Criticiz...  \n",
              "15           Senate Passes Bill to Save Net Neutrality  \n",
              "16   CNN and other news organizations were blocked ...  \n",
              "17   Jewish leaders tell Trump he's not welcome in ...  \n",
              "18   All References to Climate Change Have Been Del...  \n",
              "19   House votes 420-0 to make Mueller's report public  \n",
              "20   Majority says Election Day should be a federal...  \n",
              "21   Obama: If Republicans really cared about Clint...  \n",
              "22   Maloney Introduces Legislation to Save the Ope...  \n",
              "23   Cards Against Humanity buys plot of land on U....  \n",
              "24   Federal Prosecutors ‘Concluded that President ...  \n",
              "25   Mueller Subpoenas Trump Organization, Demandin...  \n",
              "26   Senate bill to reverse net neutrality repeal g...  \n",
              "27   Mensa offers to host IQ test for Trump and Til...  \n",
              "28   Dem introduces bills to eliminate electoral co...  \n",
              "29   Comey Memo Says Trump Asked Him to End Flynn I...  \n",
              "..                                                 ...  \n",
              "170  Saudi Arabia is mass murdering its Shia popula...  \n",
              "171  Man found stabbed inside his burning home in F...  \n",
              "172      You can't deny that YouTube is Propaganda now  \n",
              "173  Here is how Colorado is spending it's Cannabis...  \n",
              "174  In light of the banning of /r/fatpeoplehate, I...  \n",
              "175          ABC News Caught Faking w/Crime Scene Tape  \n",
              "176  FCC literally LAUGHING at the millions of comm...  \n",
              "177     This one keeps getting removed from other subs  \n",
              "178  FCC has been using dead peoples accounts to sh...  \n",
              "179  We're reaching 1984 levels of deception in the...  \n",
              "180  Dear Trump: the bill is now on your desk. Veto...  \n",
              "181  Senator Jon Tester: I was just handed a 479-pa...  \n",
              "182  TIL The Susan G. Komen (Pink Ribbon/Breast Can...  \n",
              "183  TIL Ron Paul has his own show on Youtube \"The ...  \n",
              "184                Bot Support for Ted Cruz on Twitter  \n",
              "185  After 3 weeks of protests in Venezuela, today ...  \n",
              "186  Nixon was impeached for deleting 8 min. of tap...  \n",
              "187                                   The simple truth  \n",
              "188  Nixon was impeached for lying about a burgarly...  \n",
              "189  I wonder how many people have been known to co...  \n",
              "190                   /r/fatpeoplehate has been banned  \n",
              "191  This is a warning to /r/ conspiracy: The burni...  \n",
              "192  CNN Reports Reading Wikileaks is Illegal, You ...  \n",
              "193  Tonight Or Tomorrow A Billionaire NFL Owner Wi...  \n",
              "194  His name was Aaron Swartz. He helped create Re...  \n",
              "195  Hillary wins! Named most corrupt politician of...  \n",
              "196  Model Who Exposed Elite Pedophile Ring Found D...  \n",
              "197                  /r/fatpeoplehate2 has been banned  \n",
              "198  Hillary's Memory Problem? (Or simply trying to...  \n",
              "199  Lawsuit Finds Millions Of Uncounted Bernie San...  \n",
              "\n",
              "[200 rows x 6 columns]"
            ]
          },
          "metadata": {
            "tags": []
          },
          "execution_count": 24
        }
      ]
    },
    {
      "metadata": {
        "id": "tDklLiVwSv4S",
        "colab_type": "text"
      },
      "cell_type": "markdown",
      "source": [
        "## Scraping Comments from Top Submissions"
      ]
    },
    {
      "metadata": {
        "id": "7RPZ2oGlS7ue",
        "colab_type": "code",
        "colab": {}
      },
      "cell_type": "code",
      "source": [
        "# Define a function that:\n",
        "  # Takes in an array of submissions IDs\n",
        "  # Grabs all the top \"parent comments\"\n",
        "  # Returns the comment:\n",
        "    # if it is not a moderator submissions ***  https://www.reddit.com/r/botwatch/comments/34edkl/how_do_i_check_that_the_author_of_a_comment_is/***\n",
        "    # Tags each comment by the subreddit it is associated with *check\n",
        "\n",
        "def comments_scrape(submissions_data):\n",
        "  comments=pd.DataFrame()\n",
        "  #submissions = [reddit.submission(x) for x in submissions_data['id']]\n",
        "  for sub_id in submissions_data['id']:\n",
        "    sub_id=reddit.submission(sub_id)\n",
        "    #print(sub_id)\n",
        "    #red_sub_id = reddit.submission(sub_id)\n",
        "    sub_id.comments.replace_more(limit=0)\n",
        "    \n",
        "    sub_comment_ids = sub_id.comments.list()\n",
        "    #print(sub_comment_ids[:3])\n",
        "    submission_comments= pd.DataFrame([(y.body,y.subreddit) for y in sub_comment_ids if y.body != '[deleted]'],columns = ['comments','subreddit'])\n",
        "    #time.sleep(.1)\n",
        "    comments = comments.append(submission_comments,ignore_index=True)\n",
        "   \n",
        "  return comments"
      ],
      "execution_count": 0,
      "outputs": []
    },
    {
      "metadata": {
        "id": "kK0xzrVIlLFa",
        "colab_type": "code",
        "colab": {}
      },
      "cell_type": "code",
      "source": [
        "df = comments_scrape(top_submissions)\n",
        "\n",
        "#play lenord Nemoy saying \"beep\" for 4 hours\n",
        "from IPython.display import YouTubeVideo\n",
        "YouTubeVideo(\"BE9b3IdTCiY\",autoplay=True)"
      ],
      "execution_count": 0,
      "outputs": []
    },
    {
      "metadata": {
        "id": "0GjmtSR-zcF5",
        "colab_type": "code",
        "outputId": "f97d7343-f406-481e-e27b-145f30a14287",
        "colab": {
          "base_uri": "https://localhost:8080/",
          "height": 100
        }
      },
      "cell_type": "code",
      "source": [
        "df['subreddit'].value_counts(normalize=True)"
      ],
      "execution_count": 0,
      "outputs": [
        {
          "output_type": "execute_result",
          "data": {
            "text/plain": [
              "politics        0.298394\n",
              "conspiracy      0.274245\n",
              "changemyview    0.255305\n",
              "The_Donald      0.172056\n",
              "Name: subreddit, dtype: float64"
            ]
          },
          "metadata": {
            "tags": []
          },
          "execution_count": 14
        }
      ]
    },
    {
      "metadata": {
        "id": "tBVf1en3iNNz",
        "colab_type": "code",
        "colab": {}
      },
      "cell_type": "code",
      "source": [
        "\n",
        "x=reddit.submission(top_submissions['id'][0])\n",
        "x.comments.replace_more(limit=0)\n",
        "comments_list = list(x.comments)\n",
        "comments = pd.DataFrame([(y.body,y.subreddit) for y in comments_list if y.body != '[deleted]'],columns = ['comments','subreddit'])\n",
        "\n",
        "comments"
      ],
      "execution_count": 0,
      "outputs": []
    },
    {
      "metadata": {
        "id": "ViiF_7PWeAcn",
        "colab_type": "code",
        "colab": {}
      },
      "cell_type": "code",
      "source": [
        "submission = [reddit.submission(x) for x in submissions_data['id']]\n",
        "\n",
        "# This function takes a given reddit submission id and does the following:\n",
        "    # cleans comment threads of instances of \"More Comments\"\n",
        "    # gets a list of reddit comment tree ids\n",
        "    # Grabs the body of every Root comment\n",
        "top_comments = []\n",
        "for x in submission[0:50]:\n",
        "  (x).comments.replace_more(limit=0)\n",
        "  comments = list(x.comments)\n",
        "  root_comments = [y.body for y in comments]\n",
        "  top_comments.extend(root_comments)  \n",
        "    "
      ],
      "execution_count": 0,
      "outputs": []
    },
    {
      "metadata": {
        "id": "e97VzWvpoTvF",
        "colab_type": "text"
      },
      "cell_type": "markdown",
      "source": [
        "### Saving File to Local Drive for later"
      ]
    },
    {
      "metadata": {
        "id": "bRzfdlfgclyt",
        "colab_type": "code",
        "colab": {}
      },
      "cell_type": "code",
      "source": [
        "from google.colab import files\n",
        "\n",
        "with open('reddit_comments_final.csv', 'w') as f:\n",
        "  f.write(df.to_csv(index=False))\n",
        "\n",
        "files.download('reddit_comments_final.csv')"
      ],
      "execution_count": 0,
      "outputs": []
    },
    {
      "metadata": {
        "id": "CFtftCzQppOW",
        "colab_type": "code",
        "outputId": "bc065182-8dd2-4248-94ba-4d4036956496",
        "colab": {
          "base_uri": "https://localhost:8080/",
          "height": 53
        }
      },
      "cell_type": "code",
      "source": [
        "df['comments'][0]"
      ],
      "execution_count": 0,
      "outputs": [
        {
          "output_type": "execute_result",
          "data": {
            "text/plain": [
              "'\\nAs a reminder, this subreddit [is for civil discussion.](/r/politics/wiki/index#wiki_be_civil)\\n\\nIn general, be courteous to others. Attack ideas, not users. Personal insults, shill or troll accusations, hate speech, **any** advocating or wishing death/physical harm, and other rule violations can result in a permanent ban. \\n\\nIf you see comments in violation of our rules, please report them.\\n\\n***\\n\\n\\n*I am a bot, and this action was performed automatically. Please [contact the moderators of this subreddit](/message/compose/?to=/r/politics) if you have any questions or concerns.*'"
            ]
          },
          "metadata": {
            "tags": []
          },
          "execution_count": 281
        }
      ]
    },
    {
      "metadata": {
        "id": "w8JwXebnYA3C",
        "colab_type": "code",
        "colab": {}
      },
      "cell_type": "code",
      "source": [
        "# lets start cleaning comments\n"
      ],
      "execution_count": 0,
      "outputs": []
    },
    {
      "metadata": {
        "id": "bE1PJ19i4j5d",
        "colab_type": "text"
      },
      "cell_type": "markdown",
      "source": [
        "# Clean the text\n",
        "\n",
        "https://medium.com/ml2vec/using-word2vec-to-analyze-reddit-comments-28945d8cee57\n",
        "\n",
        "https://towardsdatascience.com/a-practitioners-guide-to-natural-language-processing-part-i-processing-understanding-text-9f4abfd13e72"
      ]
    },
    {
      "metadata": {
        "id": "Bd3Zfq-OFH_u",
        "colab_type": "code",
        "colab": {}
      },
      "cell_type": "code",
      "source": [
        ""
      ],
      "execution_count": 0,
      "outputs": []
    },
    {
      "metadata": {
        "id": "WdNEnsOZWeia",
        "colab_type": "code",
        "outputId": "08f4abcb-5fcf-4819-b417-98e30c2d89de",
        "colab": {
          "base_uri": "https://localhost:8080/",
          "height": 50
        }
      },
      "cell_type": "code",
      "source": [
        "\n",
        "import nltk.data;\n",
        "import itertools\n",
        "\n",
        "import spacy\n",
        "nlp = spacy.load('en', parse=True, tag=True, entity=True)\n",
        "nltk.download('stopwords')\n",
        "stopword_list = nltk.corpus.stopwords.words('english')\n",
        "\n",
        "from gensim.models import word2vec;\n",
        "\n",
        "from sklearn.cluster import KMeans;\n",
        "from sklearn.neighbors import KDTree;\n",
        "\n",
        "\n",
        "import os\n",
        "import re\n",
        "\n",
        "import logging\n",
        "import time\n",
        "import sys\n",
        "import multiprocessing\n",
        "\n",
        "from wordcloud import WordCloud, ImageColorGenerator\n",
        "import matplotlib.pyplot as plt\n",
        "from itertools import cycle"
      ],
      "execution_count": 0,
      "outputs": [
        {
          "output_type": "stream",
          "text": [
            "[nltk_data] Downloading package stopwords to /root/nltk_data...\n",
            "[nltk_data]   Package stopwords is already up-to-date!\n"
          ],
          "name": "stdout"
        }
      ]
    },
    {
      "metadata": {
        "id": "MvC5_-oM40rT",
        "colab_type": "code",
        "outputId": "9472c15f-1516-41b7-e8b5-bb93149968fd",
        "colab": {
          "base_uri": "https://localhost:8080/",
          "height": 67
        }
      },
      "cell_type": "code",
      "source": [
        "nltk.download('punkt')\n",
        "\n"
      ],
      "execution_count": 0,
      "outputs": [
        {
          "output_type": "stream",
          "text": [
            "[nltk_data] Downloading package punkt to /root/nltk_data...\n",
            "[nltk_data]   Package punkt is already up-to-date!\n"
          ],
          "name": "stdout"
        },
        {
          "output_type": "execute_result",
          "data": {
            "text/plain": [
              "True"
            ]
          },
          "metadata": {
            "tags": []
          },
          "execution_count": 173
        }
      ]
    },
    {
      "metadata": {
        "id": "9v045-HJ5AGd",
        "colab_type": "code",
        "colab": {}
      },
      "cell_type": "code",
      "source": [
        "tokenizer = nltk.data.load('tokenizers/punkt/english.pickle');"
      ],
      "execution_count": 0,
      "outputs": []
    },
    {
      "metadata": {
        "id": "yvGviv982QP1",
        "colab_type": "code",
        "colab": {}
      },
      "cell_type": "code",
      "source": [
        "#df_politics = pd.DataFrame(top_comments,columns=['comments'])\n",
        "#df_politics['subreddit'] = 'politics'\n",
        "\n",
        "\n",
        "\n",
        "\n",
        "#df_politics = pd.DataFrame(cleaned_comments,columns=['comments'])\n",
        "#df_politics['subreddit'] = 'politics'"
      ],
      "execution_count": 0,
      "outputs": []
    },
    {
      "metadata": {
        "id": "hE9fToXs2iZR",
        "colab_type": "code",
        "colab": {}
      },
      "cell_type": "code",
      "source": [
        "df1 = pd.read_csv('reddit_comments_final.csv')"
      ],
      "execution_count": 0,
      "outputs": []
    },
    {
      "metadata": {
        "id": "DXd2VB2Wu7E5",
        "colab_type": "code",
        "outputId": "3e94af6c-b6d9-4874-e8fc-0c7fc26a0519",
        "colab": {
          "base_uri": "https://localhost:8080/",
          "height": 100
        }
      },
      "cell_type": "code",
      "source": [
        "df1['subreddit'].value_counts()"
      ],
      "execution_count": 0,
      "outputs": [
        {
          "output_type": "execute_result",
          "data": {
            "text/plain": [
              "politics        24059\n",
              "conspiracy      22114\n",
              "changemyview    20585\n",
              "The_Donald      13872\n",
              "Name: subreddit, dtype: int64"
            ]
          },
          "metadata": {
            "tags": []
          },
          "execution_count": 283
        }
      ]
    },
    {
      "metadata": {
        "id": "WYh2yqdH6Rk9",
        "colab_type": "text"
      },
      "cell_type": "markdown",
      "source": [
        "## Expanding Contractions"
      ]
    },
    {
      "metadata": {
        "id": "ztlmmgna6Uvt",
        "colab_type": "code",
        "colab": {}
      },
      "cell_type": "code",
      "source": [
        "\n",
        "#Contraction Map is located in at the bottom of the book and is a shameless copy of contraction mappings\n",
        "def expand_contractions(text, contraction_mapping=CONTRACTION_MAP):\n",
        "    \n",
        "    contractions_pattern = re.compile('({})'.format('|'.join(contraction_mapping.keys())), \n",
        "                                      flags=re.IGNORECASE|re.DOTALL)\n",
        "    def expand_match(contraction):\n",
        "        match = contraction.group(0)\n",
        "        first_char = match[0]\n",
        "        expanded_contraction = contraction_mapping.get(match)\\\n",
        "                                if contraction_mapping.get(match)\\\n",
        "                                else contraction_mapping.get(match.lower())                       \n",
        "        expanded_contraction = first_char+expanded_contraction[1:]\n",
        "        return expanded_contraction\n",
        "        \n",
        "    expanded_text = contractions_pattern.sub(expand_match, text)\n",
        "    expanded_text = re.sub(\"'\", \"\", expanded_text)\n",
        "    return expanded_text"
      ],
      "execution_count": 0,
      "outputs": []
    },
    {
      "metadata": {
        "id": "iQ3djmZ56UlP",
        "colab_type": "code",
        "colab": {}
      },
      "cell_type": "code",
      "source": [
        "df['comments'] = df['comments'].apply(lambda x:expand_contractions(x))"
      ],
      "execution_count": 0,
      "outputs": []
    },
    {
      "metadata": {
        "id": "szsVQI7P8pjK",
        "colab_type": "text"
      },
      "cell_type": "markdown",
      "source": [
        "## Removing Special characters"
      ]
    },
    {
      "metadata": {
        "id": "Dl73aQwx5BFl",
        "colab_type": "code",
        "colab": {}
      },
      "cell_type": "code",
      "source": [
        "# BIG THANKS \n",
        "def itertools_chain(a):\n",
        "    return list(itertools.chain.from_iterable(a))\n",
        "  \n",
        "def comment_to_sentence(text):\n",
        "    clean_sentences=[]\n",
        "    #Get the comment\n",
        "    \n",
        "    #Normalize tabs and remove newlines\n",
        "    no_tabs = str(text).replace('\\t', ' ').replace('\\n', '');\n",
        "\n",
        "    #Remove all characters except A-Z and a dot.\n",
        "    alphas_only = re.sub(\"[^a-zA-Z\\.]\", \" \", no_tabs);\n",
        "\n",
        "    #Normalize spaces to 1\n",
        "    multi_spaces = re.sub(\" +\", \" \", alphas_only);\n",
        "\n",
        "    #Strip trailing and leading spaces\n",
        "    no_spaces = multi_spaces.strip();\n",
        "\n",
        "    #Normalize all charachters to lowercase\n",
        "    clean_text = no_spaces.lower();\n",
        "\n",
        "    #Get sentences from the tokenizer, remove the dot in each.\n",
        "    sentences = tokenizer.tokenize(clean_text);\n",
        "    sentences = [re.sub(\"[\\.]\", \"\", sentence) for sentence in sentences];\n",
        "    #sentences = list(map(lambda x:re.sub(\"[\\.]\", \"\", x),sentences))\n",
        "    clean_sentences.extend(sentences)\n",
        "    return clean_sentences\n",
        "    \n"
      ],
      "execution_count": 0,
      "outputs": []
    },
    {
      "metadata": {
        "id": "kB2D4RTl5O-u",
        "colab_type": "code",
        "colab": {}
      },
      "cell_type": "code",
      "source": [
        "df['comments'] = df['comments'].apply(lambda x:comment_to_sentence(x))"
      ],
      "execution_count": 0,
      "outputs": []
    },
    {
      "metadata": {
        "id": "ivR-UlWW8Nbp",
        "colab_type": "code",
        "colab": {}
      },
      "cell_type": "code",
      "source": [
        "df=pd.DataFrame(itertools_chain(df_politics['comments']),columns=['comments'])"
      ],
      "execution_count": 0,
      "outputs": []
    },
    {
      "metadata": {
        "id": "kHRkk6GdX7dR",
        "colab_type": "code",
        "colab": {}
      },
      "cell_type": "code",
      "source": [
        "df"
      ],
      "execution_count": 0,
      "outputs": []
    },
    {
      "metadata": {
        "id": "TWBT_7Sr0ycp",
        "colab_type": "text"
      },
      "cell_type": "markdown",
      "source": [
        "## Lemmatize the text"
      ]
    },
    {
      "metadata": {
        "id": "PokcHUDs5T8p",
        "colab_type": "code",
        "colab": {}
      },
      "cell_type": "code",
      "source": [
        "def lemmatize_text(text):\n",
        "    text = nlp(text)\n",
        "    text = ' '.join([word.lemma_ if word.lemma_ != '-PRON-' else word.text for word in text])\n",
        "    return text"
      ],
      "execution_count": 0,
      "outputs": []
    },
    {
      "metadata": {
        "id": "JJF-fRGd07gT",
        "colab_type": "code",
        "colab": {}
      },
      "cell_type": "code",
      "source": [
        "df['comments']= df['comments'].apply(lambda x : lemmatize_text(x))\n"
      ],
      "execution_count": 0,
      "outputs": []
    },
    {
      "metadata": {
        "id": "edA2Bqoo5-Pd",
        "colab_type": "text"
      },
      "cell_type": "markdown",
      "source": [
        "## Remove Stop Words"
      ]
    },
    {
      "metadata": {
        "id": "1O16tFJ53B3r",
        "colab_type": "code",
        "colab": {}
      },
      "cell_type": "code",
      "source": [
        "def remove_stopwords(text, is_lower_case=False):\n",
        "    tokens = tokenizer.tokenize(text)\n",
        "    tokens = [token.strip() for token in tokens]\n",
        "    if is_lower_case:\n",
        "        filtered_tokens = [token for token in tokens if token not in stopword_list]\n",
        "    else:\n",
        "        filtered_tokens = [token for token in tokens if token.lower() not in stopword_list]\n",
        "    filtered_text = ' '.join(filtered_tokens)    \n",
        "    return filtered_text\n"
      ],
      "execution_count": 0,
      "outputs": []
    },
    {
      "metadata": {
        "id": "0NItPDf-2IKH",
        "colab_type": "code",
        "colab": {}
      },
      "cell_type": "code",
      "source": [
        "df['comments'] = df['comments'].apply(lambda x:remove_stopwords(x))"
      ],
      "execution_count": 0,
      "outputs": []
    },
    {
      "metadata": {
        "id": "Zv5WL7456CJT",
        "colab_type": "code",
        "outputId": "3981de72-c232-4574-9c37-642d69aa01eb",
        "colab": {
          "base_uri": "https://localhost:8080/",
          "height": 117
        }
      },
      "cell_type": "code",
      "source": [
        "df['comments'].head()"
      ],
      "execution_count": 0,
      "outputs": [
        {
          "output_type": "execute_result",
          "data": {
            "text/plain": [
              "0    as a reminder this subreddit be for civil disc...\n",
              "1    r politic wiki index wiki be civil in general ...\n",
              "2                                 attack idea not user\n",
              "3    personal insult shill or troll accusation hate...\n",
              "4    if you see comment in violation of our rule pl...\n",
              "Name: comments, dtype: object"
            ]
          },
          "metadata": {
            "tags": []
          },
          "execution_count": 30
        }
      ]
    },
    {
      "metadata": {
        "id": "2IE2Z5mgPnz8",
        "colab_type": "text"
      },
      "cell_type": "markdown",
      "source": [
        "## TFIDF Vectorizer"
      ]
    },
    {
      "metadata": {
        "id": "K6FBb9ZjPsjC",
        "colab_type": "code",
        "colab": {}
      },
      "cell_type": "code",
      "source": [
        " "
      ],
      "execution_count": 0,
      "outputs": []
    },
    {
      "metadata": {
        "id": "PKGiScYQ8956",
        "colab_type": "text"
      },
      "cell_type": "markdown",
      "source": [
        "# Word 2 Vec"
      ]
    },
    {
      "metadata": {
        "id": "DExqy6yI9CI6",
        "colab_type": "code",
        "colab": {}
      },
      "cell_type": "code",
      "source": [
        "import gensim\n",
        "from gensim.models import word2vec\n",
        "\n",
        "model = word2vec.Word2Vec(\n",
        "    df['comments'],\n",
        "    #workers=4,    # Number of threads to run in parallel (if your computer does parallel processing).\n",
        "    min_count=10,  # Minimum word count threshold.\n",
        "    window=6,      # Number of words around target word to consider.\n",
        "    sg=0,          # Use CBOW because our corpus is small.\n",
        "    sample=1e-3 ,  # Penalize frequent words.\n",
        "    size=300,      # Word vector length.\n",
        "    hs=1           # Use hierarchical softmax.\n",
        ")\n",
        "\n",
        "print('done!')"
      ],
      "execution_count": 0,
      "outputs": []
    },
    {
      "metadata": {
        "id": "fVbGdZXZvdiG",
        "colab_type": "code",
        "colab": {}
      },
      "cell_type": "code",
      "source": [
        "vocab = model.wv.vocab.keys()"
      ],
      "execution_count": 0,
      "outputs": []
    },
    {
      "metadata": {
        "id": "l4o8f-AS17f_",
        "colab_type": "code",
        "colab": {}
      },
      "cell_type": "code",
      "source": [
        ""
      ],
      "execution_count": 0,
      "outputs": []
    },
    {
      "metadata": {
        "id": "t-p2A82nv47m",
        "colab_type": "text"
      },
      "cell_type": "markdown",
      "source": [
        "## Kmeans Clustering"
      ]
    },
    {
      "metadata": {
        "id": "evXyTi1_v4eM",
        "colab_type": "code",
        "colab": {}
      },
      "cell_type": "code",
      "source": [
        ""
      ],
      "execution_count": 0,
      "outputs": []
    },
    {
      "metadata": {
        "id": "H134pTRt6dJ6",
        "colab_type": "text"
      },
      "cell_type": "markdown",
      "source": [
        "# Doc 2 Vec\n",
        "\n",
        "https://kanoki.org/2019/03/07/sentence-similarity-in-python-using-doc2vec/\n",
        "\n",
        "https://github.com/ExtraLime/medium-doc2vec/blob/master/doc2vec.ipynb\n",
        "\n",
        "https://medium.com/@morga046/multi-class-text-classification-with-doc2vec-and-t-sne-a-full-tutorial-55eb24fc40d3\n",
        "\n",
        "https://github.com/ExtraLime/medium-doc2vec/blob/master/doc2vec.ipynb"
      ]
    },
    {
      "metadata": {
        "id": "oIOKEvvfpttU",
        "colab_type": "code",
        "colab": {}
      },
      "cell_type": "code",
      "source": [
        "# Below Copied from https://radimrehurek.com/gensim/models/doc2vec.html\n",
        "# Gensim docs\n",
        "\n",
        "from gensim.test.utils import common_texts\n",
        "from gensim.models.doc2vec import Doc2Vec, TaggedDocument\n",
        "\n",
        "documents = [TaggedDocument(doc, [i]) for i, doc in enumerate(common_texts)]\n",
        "model = Doc2Vec(documents, vector_size=5, window=2, min_count=1, workers=4)"
      ],
      "execution_count": 0,
      "outputs": []
    },
    {
      "metadata": {
        "id": "n5U8tvxE6_WJ",
        "colab_type": "text"
      },
      "cell_type": "markdown",
      "source": [
        "# Other Code"
      ]
    },
    {
      "metadata": {
        "id": "_82ERhAvWyLI",
        "colab_type": "code",
        "colab": {}
      },
      "cell_type": "code",
      "source": [
        "bb_url = 'https://www.reddit.com/r/Politics/.json'\n",
        "bb_headers = {'User-agent': 'Scrape_bot'}"
      ],
      "execution_count": 0,
      "outputs": []
    },
    {
      "metadata": {
        "id": "Ha-N7mahYazH",
        "colab_type": "code",
        "colab": {}
      },
      "cell_type": "code",
      "source": [
        "bb_res = requests.get(bb_url, headers=bb_headers)"
      ],
      "execution_count": 0,
      "outputs": []
    },
    {
      "metadata": {
        "id": "PkgIjwWRYtXq",
        "colab_type": "code",
        "colab": {}
      },
      "cell_type": "code",
      "source": [
        "bb_res.status_code"
      ],
      "execution_count": 0,
      "outputs": []
    },
    {
      "metadata": {
        "id": "x29BmkWSSTvR",
        "colab_type": "code",
        "colab": {}
      },
      "cell_type": "code",
      "source": [
        "bb_json = bb_res.json()"
      ],
      "execution_count": 0,
      "outputs": []
    },
    {
      "metadata": {
        "id": "fa_RQgjUSTvS",
        "colab_type": "code",
        "colab": {}
      },
      "cell_type": "code",
      "source": [
        "bb_json"
      ],
      "execution_count": 0,
      "outputs": []
    },
    {
      "metadata": {
        "id": "lnqq0clhSTvV",
        "colab_type": "code",
        "colab": {}
      },
      "cell_type": "code",
      "source": [
        "sorted(bb_json.keys())"
      ],
      "execution_count": 0,
      "outputs": []
    },
    {
      "metadata": {
        "id": "_Ykp5XE_cF3N",
        "colab_type": "code",
        "colab": {}
      },
      "cell_type": "code",
      "source": [
        "sorted(bb_json['data'].keys())"
      ],
      "execution_count": 0,
      "outputs": []
    },
    {
      "metadata": {
        "id": "N4ScBdPocGF6",
        "colab_type": "code",
        "colab": {}
      },
      "cell_type": "code",
      "source": [
        "bb_json['data']['children'][0]['data']"
      ],
      "execution_count": 0,
      "outputs": []
    },
    {
      "metadata": {
        "id": "7D480QYwcNqx",
        "colab_type": "code",
        "colab": {}
      },
      "cell_type": "code",
      "source": [
        "bb_posts = []\n",
        "bb_after = None\n",
        "#bb_after_list = []\n",
        "\n",
        "for bbp in range(48):\n",
        "    #print(bbp)\n",
        "    if bb_after == None:\n",
        "        bb_params = {}\n",
        "    else:\n",
        "        bb_params = {'after': bb_after}\n",
        "        \n",
        "    bb_res = requests.get(bb_url, params=bb_params, headers=bb_headers)\n",
        "    if bb_res.status_code == 200:\n",
        "        bb_json = bb_res.json()\n",
        "        bb_posts.extend(bb_json['data']['children'])\n",
        "        bb_after = bb_json['data']['after']\n",
        "        #bb_after_list.append(bb_after)\n",
        "\n",
        "    else:\n",
        "        print('Status Code Error', bb_res.status_code)\n",
        "        break\n",
        "    time.sleep(.01)"
      ],
      "execution_count": 0,
      "outputs": []
    },
    {
      "metadata": {
        "id": "Aj5th5RTcUjs",
        "colab_type": "code",
        "colab": {}
      },
      "cell_type": "code",
      "source": [
        "bb_posts "
      ],
      "execution_count": 0,
      "outputs": []
    },
    {
      "metadata": {
        "id": "4le1EufseY6B",
        "colab_type": "code",
        "colab": {}
      },
      "cell_type": "code",
      "source": [
        "len(submissions)"
      ],
      "execution_count": 0,
      "outputs": []
    },
    {
      "metadata": {
        "id": "TAedgAW5fRMw",
        "colab_type": "code",
        "colab": {}
      },
      "cell_type": "code",
      "source": [
        "print(reddit.read_only)"
      ],
      "execution_count": 0,
      "outputs": []
    },
    {
      "metadata": {
        "id": "67dHZOyEcfcC",
        "colab_type": "code",
        "colab": {}
      },
      "cell_type": "code",
      "source": [
        "submissions = [reddit.submission(x['data']['id']) for x in bb_posts]"
      ],
      "execution_count": 0,
      "outputs": []
    },
    {
      "metadata": {
        "id": "4rcR80Dlfkt8",
        "colab_type": "code",
        "colab": {}
      },
      "cell_type": "code",
      "source": [
        " submissions"
      ],
      "execution_count": 0,
      "outputs": []
    },
    {
      "metadata": {
        "id": "VPRUcg8BhhfV",
        "colab_type": "code",
        "colab": {}
      },
      "cell_type": "code",
      "source": [
        "top_comments = pd.Dataframe([])\n",
        "for top_level_comment in submissions[1].comments:\n",
        "    (top_level_comment.body)"
      ],
      "execution_count": 0,
      "outputs": []
    },
    {
      "metadata": {
        "id": "Pvw7_gIBjPEg",
        "colab_type": "code",
        "colab": {}
      },
      "cell_type": "code",
      "source": [
        "submissions[1].comments"
      ],
      "execution_count": 0,
      "outputs": []
    },
    {
      "metadata": {
        "id": "KthkaTvEjSBw",
        "colab_type": "code",
        "colab": {}
      },
      "cell_type": "code",
      "source": [
        "\n",
        "parent_comments = []\n",
        "\n",
        "for links in submissions[0:10]:\n",
        "  links.comments.replace_more(limit=0)\n",
        "  for top_level_comments in links.comments:\n",
        "      parent_comments.extend(top_level_comment.body)"
      ],
      "execution_count": 0,
      "outputs": []
    },
    {
      "metadata": {
        "id": "Rcgjffdljs4x",
        "colab_type": "code",
        "colab": {}
      },
      "cell_type": "code",
      "source": [
        "submissions[2].comments.replace_more(limit=0)"
      ],
      "execution_count": 0,
      "outputs": []
    },
    {
      "metadata": {
        "id": "VudGu4Y7kNHL",
        "colab_type": "code",
        "colab": {}
      },
      "cell_type": "code",
      "source": [
        "submissions[5].comments.body"
      ],
      "execution_count": 0,
      "outputs": []
    },
    {
      "metadata": {
        "id": "5FH71t7GKXQh",
        "colab_type": "code",
        "colab": {}
      },
      "cell_type": "code",
      "source": [
        "CONTRACTION_MAP = {\n",
        "\"ain't\": \"is not\",\n",
        "\"aren't\": \"are not\",\n",
        "\"can't\": \"cannot\",\n",
        "\"can't've\": \"cannot have\",\n",
        "\"'cause\": \"because\",\n",
        "\"could've\": \"could have\",\n",
        "\"couldn't\": \"could not\",\n",
        "\"couldn't've\": \"could not have\",\n",
        "\"didn't\": \"did not\",\n",
        "\"doesn't\": \"does not\",\n",
        "\"don't\": \"do not\",\n",
        "\"hadn't\": \"had not\",\n",
        "\"hadn't've\": \"had not have\",\n",
        "\"hasn't\": \"has not\",\n",
        "\"haven't\": \"have not\",\n",
        "\"he'd\": \"he would\",\n",
        "\"he'd've\": \"he would have\",\n",
        "\"he'll\": \"he will\",\n",
        "\"he'll've\": \"he he will have\",\n",
        "\"he's\": \"he is\",\n",
        "\"how'd\": \"how did\",\n",
        "\"how'd'y\": \"how do you\",\n",
        "\"how'll\": \"how will\",\n",
        "\"how's\": \"how is\",\n",
        "\"I'd\": \"I would\",\n",
        "\"I'd've\": \"I would have\",\n",
        "\"I'll\": \"I will\",\n",
        "\"I'll've\": \"I will have\",\n",
        "\"I'm\": \"I am\",\n",
        "\"I've\": \"I have\",\n",
        "\"i'd\": \"i would\",\n",
        "\"i'd've\": \"i would have\",\n",
        "\"i'll\": \"i will\",\n",
        "\"i'll've\": \"i will have\",\n",
        "\"i'm\": \"i am\",\n",
        "\"i've\": \"i have\",\n",
        "\"isn't\": \"is not\",\n",
        "\"it'd\": \"it would\",\n",
        "\"it'd've\": \"it would have\",\n",
        "\"it'll\": \"it will\",\n",
        "\"it'll've\": \"it will have\",\n",
        "\"it's\": \"it is\",\n",
        "\"let's\": \"let us\",\n",
        "\"ma'am\": \"madam\",\n",
        "\"mayn't\": \"may not\",\n",
        "\"might've\": \"might have\",\n",
        "\"mightn't\": \"might not\",\n",
        "\"mightn't've\": \"might not have\",\n",
        "\"must've\": \"must have\",\n",
        "\"mustn't\": \"must not\",\n",
        "\"mustn't've\": \"must not have\",\n",
        "\"needn't\": \"need not\",\n",
        "\"needn't've\": \"need not have\",\n",
        "\"o'clock\": \"of the clock\",\n",
        "\"oughtn't\": \"ought not\",\n",
        "\"oughtn't've\": \"ought not have\",\n",
        "\"shan't\": \"shall not\",\n",
        "\"sha'n't\": \"shall not\",\n",
        "\"shan't've\": \"shall not have\",\n",
        "\"she'd\": \"she would\",\n",
        "\"she'd've\": \"she would have\",\n",
        "\"she'll\": \"she will\",\n",
        "\"she'll've\": \"she will have\",\n",
        "\"she's\": \"she is\",\n",
        "\"should've\": \"should have\",\n",
        "\"shouldn't\": \"should not\",\n",
        "\"shouldn't've\": \"should not have\",\n",
        "\"so've\": \"so have\",\n",
        "\"so's\": \"so as\",\n",
        "\"that'd\": \"that would\",\n",
        "\"that'd've\": \"that would have\",\n",
        "\"that's\": \"that is\",\n",
        "\"there'd\": \"there would\",\n",
        "\"there'd've\": \"there would have\",\n",
        "\"there's\": \"there is\",\n",
        "\"they'd\": \"they would\",\n",
        "\"they'd've\": \"they would have\",\n",
        "\"they'll\": \"they will\",\n",
        "\"they'll've\": \"they will have\",\n",
        "\"they're\": \"they are\",\n",
        "\"they've\": \"they have\",\n",
        "\"to've\": \"to have\",\n",
        "\"wasn't\": \"was not\",\n",
        "\"we'd\": \"we would\",\n",
        "\"we'd've\": \"we would have\",\n",
        "\"we'll\": \"we will\",\n",
        "\"we'll've\": \"we will have\",\n",
        "\"we're\": \"we are\",\n",
        "\"we've\": \"we have\",\n",
        "\"weren't\": \"were not\",\n",
        "\"what'll\": \"what will\",\n",
        "\"what'll've\": \"what will have\",\n",
        "\"what're\": \"what are\",\n",
        "\"what's\": \"what is\",\n",
        "\"what've\": \"what have\",\n",
        "\"when's\": \"when is\",\n",
        "\"when've\": \"when have\",\n",
        "\"where'd\": \"where did\",\n",
        "\"where's\": \"where is\",\n",
        "\"where've\": \"where have\",\n",
        "\"who'll\": \"who will\",\n",
        "\"who'll've\": \"who will have\",\n",
        "\"who's\": \"who is\",\n",
        "\"who've\": \"who have\",\n",
        "\"why's\": \"why is\",\n",
        "\"why've\": \"why have\",\n",
        "\"will've\": \"will have\",\n",
        "\"won't\": \"will not\",\n",
        "\"won't've\": \"will not have\",\n",
        "\"would've\": \"would have\",\n",
        "\"wouldn't\": \"would not\",\n",
        "\"wouldn't've\": \"would not have\",\n",
        "\"y'all\": \"you all\",\n",
        "\"y'all'd\": \"you all would\",\n",
        "\"y'all'd've\": \"you all would have\",\n",
        "\"y'all're\": \"you all are\",\n",
        "\"y'all've\": \"you all have\",\n",
        "\"you'd\": \"you would\",\n",
        "\"you'd've\": \"you would have\",\n",
        "\"you'll\": \"you will\",\n",
        "\"you'll've\": \"you will have\",\n",
        "\"you're\": \"you are\",\n",
        "\"you've\": \"you have\"\n",
        "}"
      ],
      "execution_count": 0,
      "outputs": []
    },
    {
      "metadata": {
        "id": "rJXRuZRA65t1",
        "colab_type": "code",
        "colab": {}
      },
      "cell_type": "code",
      "source": [
        ""
      ],
      "execution_count": 0,
      "outputs": []
    }
  ]
}